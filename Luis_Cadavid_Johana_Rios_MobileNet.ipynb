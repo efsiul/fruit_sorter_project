{
  "nbformat": 4,
  "nbformat_minor": 0,
  "metadata": {
    "colab": {
      "provenance": [],
      "machine_shape": "hm",
      "gpuType": "V28",
      "include_colab_link": true
    },
    "kernelspec": {
      "name": "python3",
      "display_name": "Python 3"
    },
    "language_info": {
      "name": "python"
    },
    "accelerator": "TPU"
  },
  "cells": [
    {
      "cell_type": "markdown",
      "metadata": {
        "id": "view-in-github",
        "colab_type": "text"
      },
      "source": [
        "<a href=\"https://colab.research.google.com/github/efsiul/fruit_sorter_project/blob/master/Luis_Cadavid_Johana_Rios_MobileNet.ipynb\" target=\"_parent\"><img src=\"https://colab.research.google.com/assets/colab-badge.svg\" alt=\"Open In Colab\"/></a>"
      ]
    },
    {
      "cell_type": "code",
      "source": [
        "%pip install tensorflow"
      ],
      "metadata": {
        "colab": {
          "base_uri": "https://localhost:8080/"
        },
        "id": "VjIk_WBmyS6V",
        "outputId": "40bdcc7e-e2d1-4086-c3f7-3b9235322774"
      },
      "execution_count": null,
      "outputs": [
        {
          "output_type": "stream",
          "name": "stdout",
          "text": [
            "Requirement already satisfied: tensorflow in /usr/local/lib/python3.10/dist-packages (2.15.0)\n",
            "Requirement already satisfied: absl-py>=1.0.0 in /usr/local/lib/python3.10/dist-packages (from tensorflow) (1.4.0)\n",
            "Requirement already satisfied: astunparse>=1.6.0 in /usr/local/lib/python3.10/dist-packages (from tensorflow) (1.6.3)\n",
            "Requirement already satisfied: flatbuffers>=23.5.26 in /usr/local/lib/python3.10/dist-packages (from tensorflow) (24.3.25)\n",
            "Requirement already satisfied: gast!=0.5.0,!=0.5.1,!=0.5.2,>=0.2.1 in /usr/local/lib/python3.10/dist-packages (from tensorflow) (0.5.4)\n",
            "Requirement already satisfied: google-pasta>=0.1.1 in /usr/local/lib/python3.10/dist-packages (from tensorflow) (0.2.0)\n",
            "Requirement already satisfied: h5py>=2.9.0 in /usr/local/lib/python3.10/dist-packages (from tensorflow) (3.11.0)\n",
            "Requirement already satisfied: libclang>=13.0.0 in /usr/local/lib/python3.10/dist-packages (from tensorflow) (18.1.1)\n",
            "Requirement already satisfied: ml-dtypes~=0.2.0 in /usr/local/lib/python3.10/dist-packages (from tensorflow) (0.2.0)\n",
            "Requirement already satisfied: numpy<2.0.0,>=1.23.5 in /usr/local/lib/python3.10/dist-packages (from tensorflow) (1.25.2)\n",
            "Requirement already satisfied: opt-einsum>=2.3.2 in /usr/local/lib/python3.10/dist-packages (from tensorflow) (3.3.0)\n",
            "Requirement already satisfied: packaging in /usr/local/lib/python3.10/dist-packages (from tensorflow) (24.0)\n",
            "Requirement already satisfied: protobuf!=4.21.0,!=4.21.1,!=4.21.2,!=4.21.3,!=4.21.4,!=4.21.5,<5.0.0dev,>=3.20.3 in /usr/local/lib/python3.10/dist-packages (from tensorflow) (3.20.3)\n",
            "Requirement already satisfied: setuptools in /usr/local/lib/python3.10/dist-packages (from tensorflow) (67.7.2)\n",
            "Requirement already satisfied: six>=1.12.0 in /usr/local/lib/python3.10/dist-packages (from tensorflow) (1.16.0)\n",
            "Requirement already satisfied: termcolor>=1.1.0 in /usr/local/lib/python3.10/dist-packages (from tensorflow) (2.4.0)\n",
            "Requirement already satisfied: typing-extensions>=3.6.6 in /usr/local/lib/python3.10/dist-packages (from tensorflow) (4.11.0)\n",
            "Requirement already satisfied: wrapt<1.15,>=1.11.0 in /usr/local/lib/python3.10/dist-packages (from tensorflow) (1.14.1)\n",
            "Requirement already satisfied: tensorflow-io-gcs-filesystem>=0.23.1 in /usr/local/lib/python3.10/dist-packages (from tensorflow) (0.37.0)\n",
            "Requirement already satisfied: grpcio<2.0,>=1.24.3 in /usr/local/lib/python3.10/dist-packages (from tensorflow) (1.64.0)\n",
            "Requirement already satisfied: tensorboard<2.16,>=2.15 in /usr/local/lib/python3.10/dist-packages (from tensorflow) (2.15.2)\n",
            "Requirement already satisfied: tensorflow-estimator<2.16,>=2.15.0 in /usr/local/lib/python3.10/dist-packages (from tensorflow) (2.15.0)\n",
            "Requirement already satisfied: keras<2.16,>=2.15.0 in /usr/local/lib/python3.10/dist-packages (from tensorflow) (2.15.0)\n",
            "Requirement already satisfied: wheel<1.0,>=0.23.0 in /usr/local/lib/python3.10/dist-packages (from astunparse>=1.6.0->tensorflow) (0.43.0)\n",
            "Requirement already satisfied: google-auth<3,>=1.6.3 in /usr/local/lib/python3.10/dist-packages (from tensorboard<2.16,>=2.15->tensorflow) (2.27.0)\n",
            "Requirement already satisfied: google-auth-oauthlib<2,>=0.5 in /usr/local/lib/python3.10/dist-packages (from tensorboard<2.16,>=2.15->tensorflow) (1.2.0)\n",
            "Requirement already satisfied: markdown>=2.6.8 in /usr/local/lib/python3.10/dist-packages (from tensorboard<2.16,>=2.15->tensorflow) (3.6)\n",
            "Requirement already satisfied: requests<3,>=2.21.0 in /usr/local/lib/python3.10/dist-packages (from tensorboard<2.16,>=2.15->tensorflow) (2.31.0)\n",
            "Requirement already satisfied: tensorboard-data-server<0.8.0,>=0.7.0 in /usr/local/lib/python3.10/dist-packages (from tensorboard<2.16,>=2.15->tensorflow) (0.7.2)\n",
            "Requirement already satisfied: werkzeug>=1.0.1 in /usr/local/lib/python3.10/dist-packages (from tensorboard<2.16,>=2.15->tensorflow) (3.0.3)\n",
            "Requirement already satisfied: cachetools<6.0,>=2.0.0 in /usr/local/lib/python3.10/dist-packages (from google-auth<3,>=1.6.3->tensorboard<2.16,>=2.15->tensorflow) (5.3.3)\n",
            "Requirement already satisfied: pyasn1-modules>=0.2.1 in /usr/local/lib/python3.10/dist-packages (from google-auth<3,>=1.6.3->tensorboard<2.16,>=2.15->tensorflow) (0.4.0)\n",
            "Requirement already satisfied: rsa<5,>=3.1.4 in /usr/local/lib/python3.10/dist-packages (from google-auth<3,>=1.6.3->tensorboard<2.16,>=2.15->tensorflow) (4.9)\n",
            "Requirement already satisfied: requests-oauthlib>=0.7.0 in /usr/local/lib/python3.10/dist-packages (from google-auth-oauthlib<2,>=0.5->tensorboard<2.16,>=2.15->tensorflow) (2.0.0)\n",
            "Requirement already satisfied: charset-normalizer<4,>=2 in /usr/local/lib/python3.10/dist-packages (from requests<3,>=2.21.0->tensorboard<2.16,>=2.15->tensorflow) (3.3.2)\n",
            "Requirement already satisfied: idna<4,>=2.5 in /usr/local/lib/python3.10/dist-packages (from requests<3,>=2.21.0->tensorboard<2.16,>=2.15->tensorflow) (3.7)\n",
            "Requirement already satisfied: urllib3<3,>=1.21.1 in /usr/local/lib/python3.10/dist-packages (from requests<3,>=2.21.0->tensorboard<2.16,>=2.15->tensorflow) (2.0.7)\n",
            "Requirement already satisfied: certifi>=2017.4.17 in /usr/local/lib/python3.10/dist-packages (from requests<3,>=2.21.0->tensorboard<2.16,>=2.15->tensorflow) (2024.2.2)\n",
            "Requirement already satisfied: MarkupSafe>=2.1.1 in /usr/local/lib/python3.10/dist-packages (from werkzeug>=1.0.1->tensorboard<2.16,>=2.15->tensorflow) (2.1.5)\n",
            "Requirement already satisfied: pyasn1<0.7.0,>=0.4.6 in /usr/local/lib/python3.10/dist-packages (from pyasn1-modules>=0.2.1->google-auth<3,>=1.6.3->tensorboard<2.16,>=2.15->tensorflow) (0.6.0)\n",
            "Requirement already satisfied: oauthlib>=3.0.0 in /usr/local/lib/python3.10/dist-packages (from requests-oauthlib>=0.7.0->google-auth-oauthlib<2,>=0.5->tensorboard<2.16,>=2.15->tensorflow) (3.2.2)\n"
          ]
        }
      ]
    },
    {
      "cell_type": "markdown",
      "source": [
        "MobileNet: MobileNet is a small and efficient deep learning model, which is designed for use on mobile devices and low-power devices"
      ],
      "metadata": {
        "id": "RtvoxCdig4oc"
      }
    },
    {
      "cell_type": "code",
      "execution_count": null,
      "metadata": {
        "id": "2a0d7SZYx1dr"
      },
      "outputs": [],
      "source": [
        "import tensorflow as tf\n",
        "from tensorflow.keras.applications import MobileNet\n",
        "from tensorflow.keras import layers, models, Input\n",
        "from tensorflow.keras.preprocessing.image import ImageDataGenerator\n",
        "import matplotlib.pyplot as plt\n",
        "import seaborn as sns\n",
        "from sklearn.metrics import confusion_matrix, classification_report\n",
        "import numpy as np"
      ]
    },
    {
      "cell_type": "code",
      "source": [
        "# Cargar el modelo base de MobileNet\n",
        "base_model = MobileNet(weights='imagenet', include_top=False, input_shape=(224, 224, 3))\n",
        "base_model.trainable = False"
      ],
      "metadata": {
        "id": "ubAFpBpg0N5r",
        "colab": {
          "base_uri": "https://localhost:8080/"
        },
        "outputId": "967b21fd-e2b9-4551-fb1a-c5f09782b94a"
      },
      "execution_count": null,
      "outputs": [
        {
          "output_type": "stream",
          "name": "stdout",
          "text": [
            "Downloading data from https://storage.googleapis.com/tensorflow/keras-applications/mobilenet/mobilenet_1_0_224_tf_no_top.h5\n",
            "17225924/17225924 [==============================] - 0s 0us/step\n"
          ]
        }
      ]
    },
    {
      "cell_type": "code",
      "source": [
        "# Crear entradas con la forma correcta\n",
        "inputs = Input(shape=(224, 224, 3))\n",
        "\n",
        "# Pasar las entradas a través del modelo base\n",
        "x = base_model(inputs, training=False)\n",
        "\n",
        "# Añadir una capa de pooling global\n",
        "x = layers.GlobalAveragePooling2D()(x)\n",
        "\n",
        "# Añadir la capa densa final\n",
        "outputs = layers.Dense(6, activation='softmax')(x)\n",
        "\n",
        "# Combinar entradas y salidas para crear el modelo\n",
        "model = models.Model(inputs, outputs)\n"
      ],
      "metadata": {
        "id": "2iVm12B30Xul"
      },
      "execution_count": null,
      "outputs": []
    },
    {
      "cell_type": "code",
      "source": [
        "# Mostrar el resumen del modelo\n",
        "model.summary()\n",
        "\n",
        "# Compilar el modelo\n",
        "model.compile(loss='categorical_crossentropy', metrics=['categorical_accuracy'])"
      ],
      "metadata": {
        "colab": {
          "base_uri": "https://localhost:8080/"
        },
        "id": "7CkCAAdO1J7_",
        "outputId": "f53690f7-ee30-4c1c-ef0f-0b2f385b42e0"
      },
      "execution_count": null,
      "outputs": [
        {
          "output_type": "stream",
          "name": "stdout",
          "text": [
            "Model: \"model\"\n",
            "_________________________________________________________________\n",
            " Layer (type)                Output Shape              Param #   \n",
            "=================================================================\n",
            " input_2 (InputLayer)        [(None, 224, 224, 3)]     0         \n",
            "                                                                 \n",
            " mobilenet_1.00_224 (Functi  (None, 7, 7, 1024)        3228864   \n",
            " onal)                                                           \n",
            "                                                                 \n",
            " global_average_pooling2d (  (None, 1024)              0         \n",
            " GlobalAveragePooling2D)                                         \n",
            "                                                                 \n",
            " dense (Dense)               (None, 6)                 6150      \n",
            "                                                                 \n",
            "=================================================================\n",
            "Total params: 3235014 (12.34 MB)\n",
            "Trainable params: 6150 (24.02 KB)\n",
            "Non-trainable params: 3228864 (12.32 MB)\n",
            "_________________________________________________________________\n"
          ]
        }
      ]
    },
    {
      "cell_type": "code",
      "source": [
        "# Configurar los generadores de datos\n",
        "datagen_train = ImageDataGenerator(samplewise_center=True,  # normalizar\n",
        "    rotation_range=10,  # rotar aleatoriamente\n",
        "    zoom_range=0.1,  # hacer zoom aleatoriamente\n",
        "    width_shift_range=0.1,  # desplazar horizontalmente\n",
        "    height_shift_range=0.1,  # desplazar verticalmente\n",
        "    horizontal_flip=True,  # voltear horizontalmente\n",
        "    vertical_flip=True)  # voltear verticalmente\n",
        "\n",
        "datagen_valid = ImageDataGenerator(samplewise_center=True)"
      ],
      "metadata": {
        "id": "39dxT4131dwk"
      },
      "execution_count": null,
      "outputs": []
    },
    {
      "cell_type": "code",
      "source": [
        "from google.colab import drive\n",
        "drive.mount('/content/drive')"
      ],
      "metadata": {
        "colab": {
          "base_uri": "https://localhost:8080/"
        },
        "id": "mNCWXuWm2ZCc",
        "outputId": "0528bfa0-76b5-4cfa-b2b5-2ae5cb6c281b"
      },
      "execution_count": null,
      "outputs": [
        {
          "output_type": "stream",
          "name": "stdout",
          "text": [
            "Mounted at /content/drive\n"
          ]
        }
      ]
    },
    {
      "cell_type": "code",
      "source": [
        "# Cargar y iterar sobre el conjunto de datos de entrenamiento\n",
        "train_it = datagen_train.flow_from_directory(\n",
        "    '/content/drive/MyDrive/Udea/Simulación/train',\n",
        "    target_size=(224, 224),\n",
        "    color_mode=\"rgb\",\n",
        "    class_mode=\"categorical\",\n",
        ")\n",
        "\n",
        "# Cargar y iterar sobre el conjunto de datos de validación\n",
        "valid_it = datagen_valid.flow_from_directory(\n",
        "    '/content/drive/MyDrive/Udea/Simulación/test',\n",
        "    target_size=(224, 224),\n",
        "    color_mode=\"rgb\",\n",
        "    class_mode=\"categorical\",\n",
        "    shuffle=False  # Asegurar que el orden de las imágenes sea el mismo para predicciones y etiquetas\n",
        ")"
      ],
      "metadata": {
        "colab": {
          "base_uri": "https://localhost:8080/"
        },
        "id": "BgtQNMGe2YhE",
        "outputId": "43ddce48-5688-4f06-8030-20288ea1d675"
      },
      "execution_count": null,
      "outputs": [
        {
          "output_type": "stream",
          "name": "stdout",
          "text": [
            "Found 9833 images belonging to 6 classes.\n",
            "Found 2698 images belonging to 6 classes.\n"
          ]
        }
      ]
    },
    {
      "cell_type": "code",
      "source": [
        "# Entrenar el modelo\n",
        "model.fit(train_it,\n",
        "          validation_data=valid_it,\n",
        "          steps_per_epoch=train_it.samples // train_it.batch_size,\n",
        "          validation_steps=valid_it.samples // valid_it.batch_size,\n",
        "          epochs=20)"
      ],
      "metadata": {
        "colab": {
          "base_uri": "https://localhost:8080/"
        },
        "id": "xCTxVDPC2y5l",
        "outputId": "4739021e-e821-4275-ac2c-bf0d99ba99cf"
      },
      "execution_count": null,
      "outputs": [
        {
          "output_type": "stream",
          "name": "stdout",
          "text": [
            "Epoch 1/20\n",
            "307/307 [==============================] - 2475s 8s/step - loss: 0.7187 - categorical_accuracy: 0.7366 - val_loss: 0.4163 - val_categorical_accuracy: 0.8534\n",
            "Epoch 2/20\n",
            "307/307 [==============================] - 189s 617ms/step - loss: 0.3884 - categorical_accuracy: 0.8572 - val_loss: 0.2970 - val_categorical_accuracy: 0.8925\n",
            "Epoch 3/20\n",
            "307/307 [==============================] - 187s 609ms/step - loss: 0.3132 - categorical_accuracy: 0.8838 - val_loss: 0.2639 - val_categorical_accuracy: 0.9062\n",
            "Epoch 4/20\n",
            "307/307 [==============================] - 189s 615ms/step - loss: 0.2875 - categorical_accuracy: 0.8952 - val_loss: 0.2511 - val_categorical_accuracy: 0.9085\n",
            "Epoch 5/20\n",
            "307/307 [==============================] - 190s 620ms/step - loss: 0.2678 - categorical_accuracy: 0.9031 - val_loss: 0.2835 - val_categorical_accuracy: 0.8914\n",
            "Epoch 6/20\n",
            "307/307 [==============================] - 188s 612ms/step - loss: 0.2534 - categorical_accuracy: 0.9073 - val_loss: 0.2632 - val_categorical_accuracy: 0.9018\n",
            "Epoch 7/20\n",
            "307/307 [==============================] - 189s 616ms/step - loss: 0.2442 - categorical_accuracy: 0.9086 - val_loss: 0.2002 - val_categorical_accuracy: 0.9256\n",
            "Epoch 8/20\n",
            "307/307 [==============================] - 189s 616ms/step - loss: 0.2346 - categorical_accuracy: 0.9139 - val_loss: 0.2227 - val_categorical_accuracy: 0.9178\n",
            "Epoch 9/20\n",
            "307/307 [==============================] - 189s 616ms/step - loss: 0.2208 - categorical_accuracy: 0.9207 - val_loss: 0.1966 - val_categorical_accuracy: 0.9241\n",
            "Epoch 10/20\n",
            "307/307 [==============================] - 189s 615ms/step - loss: 0.2112 - categorical_accuracy: 0.9236 - val_loss: 0.2088 - val_categorical_accuracy: 0.9208\n",
            "Epoch 11/20\n",
            "307/307 [==============================] - 189s 616ms/step - loss: 0.2169 - categorical_accuracy: 0.9175 - val_loss: 0.1879 - val_categorical_accuracy: 0.9275\n",
            "Epoch 12/20\n",
            "307/307 [==============================] - 188s 614ms/step - loss: 0.2075 - categorical_accuracy: 0.9223 - val_loss: 0.2463 - val_categorical_accuracy: 0.9085\n",
            "Epoch 13/20\n",
            "307/307 [==============================] - 187s 609ms/step - loss: 0.2169 - categorical_accuracy: 0.9212 - val_loss: 0.1843 - val_categorical_accuracy: 0.9293\n",
            "Epoch 14/20\n",
            "307/307 [==============================] - 189s 614ms/step - loss: 0.2021 - categorical_accuracy: 0.9242 - val_loss: 0.1688 - val_categorical_accuracy: 0.9364\n",
            "Epoch 15/20\n",
            "307/307 [==============================] - 187s 610ms/step - loss: 0.1965 - categorical_accuracy: 0.9280 - val_loss: 0.1939 - val_categorical_accuracy: 0.9249\n",
            "Epoch 16/20\n",
            "307/307 [==============================] - 188s 612ms/step - loss: 0.1969 - categorical_accuracy: 0.9269 - val_loss: 0.1796 - val_categorical_accuracy: 0.9323\n",
            "Epoch 17/20\n",
            "307/307 [==============================] - 189s 617ms/step - loss: 0.1915 - categorical_accuracy: 0.9286 - val_loss: 0.1729 - val_categorical_accuracy: 0.9334\n",
            "Epoch 18/20\n",
            "307/307 [==============================] - 189s 617ms/step - loss: 0.1927 - categorical_accuracy: 0.9275 - val_loss: 0.1925 - val_categorical_accuracy: 0.9245\n",
            "Epoch 19/20\n",
            "307/307 [==============================] - 190s 618ms/step - loss: 0.1930 - categorical_accuracy: 0.9288 - val_loss: 0.1650 - val_categorical_accuracy: 0.9356\n",
            "Epoch 20/20\n",
            "307/307 [==============================] - 191s 621ms/step - loss: 0.1933 - categorical_accuracy: 0.9255 - val_loss: 0.1686 - val_categorical_accuracy: 0.9297\n"
          ]
        },
        {
          "output_type": "execute_result",
          "data": {
            "text/plain": [
              "<keras.src.callbacks.History at 0x79fc782b3040>"
            ]
          },
          "metadata": {},
          "execution_count": 10
        }
      ]
    },
    {
      "cell_type": "code",
      "source": [
        "# Evaluar el modelo\n",
        "model.evaluate(valid_it, steps=valid_it.samples // valid_it.batch_size)"
      ],
      "metadata": {
        "colab": {
          "base_uri": "https://localhost:8080/"
        },
        "id": "u3jUZ-ag30Hm",
        "outputId": "4a6213db-b847-4e75-986b-01a89c91bd1d"
      },
      "execution_count": null,
      "outputs": [
        {
          "output_type": "stream",
          "name": "stdout",
          "text": [
            "84/84 [==============================] - 23s 271ms/step - loss: 0.1686 - categorical_accuracy: 0.9297\n"
          ]
        },
        {
          "output_type": "execute_result",
          "data": {
            "text/plain": [
              "[0.16858169436454773, 0.9296875]"
            ]
          },
          "metadata": {},
          "execution_count": 11
        }
      ]
    },
    {
      "cell_type": "code",
      "source": [
        "# Generar predicciones\n",
        "valid_it.reset()  # Reiniciar el generador antes de predecir\n",
        "y_pred = model.predict(valid_it, steps=valid_it.samples // valid_it.batch_size + 1, verbose=1)\n",
        "y_true = valid_it.classes"
      ],
      "metadata": {
        "colab": {
          "base_uri": "https://localhost:8080/"
        },
        "id": "K0dxRi9Y32hT",
        "outputId": "5e4f0b6f-e57e-4d7a-81fe-2b8ea4cfc784"
      },
      "execution_count": null,
      "outputs": [
        {
          "output_type": "stream",
          "name": "stdout",
          "text": [
            "85/85 [==============================] - 23s 266ms/step\n"
          ]
        }
      ]
    },
    {
      "cell_type": "code",
      "source": [
        "# Asegurarse de que y_pred cubra todas las muestras\n",
        "if y_pred.shape[0] > y_true.shape[0]:\n",
        "    y_pred = y_pred[:y_true.shape[0]]\n",
        "elif y_pred.shape[0] < y_true.shape[0]:\n",
        "    y_true = y_true[:y_pred.shape[0]]"
      ],
      "metadata": {
        "id": "a2Pd1PyB35nt"
      },
      "execution_count": null,
      "outputs": []
    },
    {
      "cell_type": "code",
      "source": [
        "# Convertir las predicciones de probabilidades a etiquetas de clase\n",
        "y_pred_classes = np.argmax(y_pred, axis=1)\n",
        "\n",
        "# Calcular la matriz de confusión\n",
        "cm = confusion_matrix(y_true, y_pred_classes)"
      ],
      "metadata": {
        "id": "L_avAm653-h3"
      },
      "execution_count": null,
      "outputs": []
    },
    {
      "cell_type": "code",
      "source": [
        "# Visualizar la matriz de confusión\n",
        "plt.figure(figsize=(10, 8))\n",
        "sns.heatmap(cm, annot=True, fmt='d', cmap='Blues', xticklabels=valid_it.class_indices.keys(), yticklabels=valid_it.class_indices.keys())\n",
        "plt.title('MobileNet Confusion Matrix')\n",
        "plt.xlabel('Predicted Labels')\n",
        "plt.ylabel('True Labels')\n",
        "plt.show()"
      ],
      "metadata": {
        "colab": {
          "base_uri": "https://localhost:8080/",
          "height": 718
        },
        "id": "Fr3IKlop4DFs",
        "outputId": "5b9fbec3-8f6f-45f1-81eb-ade39cb02193"
      },
      "execution_count": null,
      "outputs": [
        {
          "output_type": "display_data",
          "data": {
            "text/plain": [
              "<Figure size 1000x800 with 2 Axes>"
            ],
            "image/png": "[encoded data removed]"
          },
          "metadata": {}
        }
      ]
    },
    {
      "cell_type": "code",
      "source": [
        "# Calcular e imprimir el informe de clasificación\n",
        "class_report = classification_report(y_true, y_pred_classes, target_names=valid_it.class_indices.keys())\n",
        "print(\"Classification Report:\")\n",
        "print(class_report)"
      ],
      "metadata": {
        "colab": {
          "base_uri": "https://localhost:8080/"
        },
        "id": "IJjy9A6K4Ffe",
        "outputId": "29a66fd0-dce7-4100-98b6-4dba8f216b9d"
      },
      "execution_count": null,
      "outputs": [
        {
          "output_type": "stream",
          "name": "stdout",
          "text": [
            "Classification Report:\n",
            "               precision    recall  f1-score   support\n",
            "\n",
            "  freshapples       0.86      0.91      0.89       395\n",
            "  freshbanana       0.99      0.98      0.99       381\n",
            " freshoranges       0.96      0.88      0.92       388\n",
            " rottenapples       0.90      0.89      0.89       601\n",
            " rottenbanana       0.99      1.00      0.99       530\n",
            "rottenoranges       0.88      0.93      0.91       403\n",
            "\n",
            "     accuracy                           0.93      2698\n",
            "    macro avg       0.93      0.93      0.93      2698\n",
            " weighted avg       0.93      0.93      0.93      2698\n",
            "\n"
          ]
        }
      ]
    },
    {
      "cell_type": "code",
      "source": [
        "import pickle\n",
        "from google.colab import files\n",
        "\n",
        "# Guarda el modelo entrenado en un archivo .pkl\n",
        "with open('modelo_entrenado.pkl', 'wb') as f:\n",
        "    pickle.dump(model, f)\n",
        "\n",
        "# Descarga el archivo .pkl desde Google Colab\n",
        "files.download('modelo_entrenado.pkl')"
      ],
      "metadata": {
        "colab": {
          "base_uri": "https://localhost:8080/",
          "height": 17
        },
        "id": "QnigEvF2FXWN",
        "outputId": "8b0e3e3e-1342-4e16-d377-911f44328e36"
      },
      "execution_count": null,
      "outputs": [
        {
          "output_type": "display_data",
          "data": {
            "text/plain": [
              "<IPython.core.display.Javascript object>"
            ],
            "application/javascript": [
              "\n",
              "    async function download(id, filename, size) {\n",
              "      if (!google.colab.kernel.accessAllowed) {\n",
              "        return;\n",
              "      }\n",
              "      const div = document.createElement('div');\n",
              "      const label = document.createElement('label');\n",
              "      label.textContent = `Downloading \"${filename}\": `;\n",
              "      div.appendChild(label);\n",
              "      const progress = document.createElement('progress');\n",
              "      progress.max = size;\n",
              "      div.appendChild(progress);\n",
              "      document.body.appendChild(div);\n",
              "\n",
              "      const buffers = [];\n",
              "      let downloaded = 0;\n",
              "\n",
              "      const channel = await google.colab.kernel.comms.open(id);\n",
              "      // Send a message to notify the kernel that we're ready.\n",
              "      channel.send({})\n",
              "\n",
              "      for await (const message of channel.messages) {\n",
              "        // Send a message to notify the kernel that we're ready.\n",
              "        channel.send({})\n",
              "        if (message.buffers) {\n",
              "          for (const buffer of message.buffers) {\n",
              "            buffers.push(buffer);\n",
              "            downloaded += buffer.byteLength;\n",
              "            progress.value = downloaded;\n",
              "          }\n",
              "        }\n",
              "      }\n",
              "      const blob = new Blob(buffers, {type: 'application/binary'});\n",
              "      const a = document.createElement('a');\n",
              "      a.href = window.URL.createObjectURL(blob);\n",
              "      a.download = filename;\n",
              "      div.appendChild(a);\n",
              "      a.click();\n",
              "      div.remove();\n",
              "    }\n",
              "  "
            ]
          },
          "metadata": {}
        },
        {
          "output_type": "display_data",
          "data": {
            "text/plain": [
              "<IPython.core.display.Javascript object>"
            ],
            "application/javascript": [
              "download(\"download_f55868f4-4a44-4f50-a660-1fe6e1f6a291\", \"modelo_entrenado.pkl\", 13260231)"
            ]
          },
          "metadata": {}
        }
      ]
    }
  ]
}