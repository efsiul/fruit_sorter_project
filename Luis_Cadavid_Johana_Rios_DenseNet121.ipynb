{
  "nbformat": 4,
  "nbformat_minor": 0,
  "metadata": {
    "colab": {
      "provenance": [],
      "machine_shape": "hm",
      "gpuType": "V28",
      "include_colab_link": true
    },
    "kernelspec": {
      "name": "python3",
      "display_name": "Python 3"
    },
    "language_info": {
      "name": "python"
    },
    "accelerator": "TPU"
  },
  "cells": [
    {
      "cell_type": "markdown",
      "metadata": {
        "id": "view-in-github",
        "colab_type": "text"
      },
      "source": [
        "<a href=\"https://colab.research.google.com/github/efsiul/fruit_sorter_project/blob/master/Luis_Cadavid_Johana_Rios_DenseNet121.ipynb\" target=\"_parent\"><img src=\"https://colab.research.google.com/assets/colab-badge.svg\" alt=\"Open In Colab\"/></a>"
      ]
    },
    {
      "cell_type": "code",
      "execution_count": null,
      "metadata": {
        "id": "szGfSFbM7dFL",
        "colab": {
          "base_uri": "https://localhost:8080/"
        },
        "outputId": "fd06f7ec-2e02-4789-f78a-6ffddb32906b"
      },
      "outputs": [
        {
          "output_type": "stream",
          "name": "stdout",
          "text": [
            "Requirement already satisfied: tensorflow in /usr/local/lib/python3.10/dist-packages (2.15.0)\n",
            "Requirement already satisfied: absl-py>=1.0.0 in /usr/local/lib/python3.10/dist-packages (from tensorflow) (1.4.0)\n",
            "Requirement already satisfied: astunparse>=1.6.0 in /usr/local/lib/python3.10/dist-packages (from tensorflow) (1.6.3)\n",
            "Requirement already satisfied: flatbuffers>=23.5.26 in /usr/local/lib/python3.10/dist-packages (from tensorflow) (24.3.25)\n",
            "Requirement already satisfied: gast!=0.5.0,!=0.5.1,!=0.5.2,>=0.2.1 in /usr/local/lib/python3.10/dist-packages (from tensorflow) (0.5.4)\n",
            "Requirement already satisfied: google-pasta>=0.1.1 in /usr/local/lib/python3.10/dist-packages (from tensorflow) (0.2.0)\n",
            "Requirement already satisfied: h5py>=2.9.0 in /usr/local/lib/python3.10/dist-packages (from tensorflow) (3.11.0)\n",
            "Requirement already satisfied: libclang>=13.0.0 in /usr/local/lib/python3.10/dist-packages (from tensorflow) (18.1.1)\n",
            "Requirement already satisfied: ml-dtypes~=0.2.0 in /usr/local/lib/python3.10/dist-packages (from tensorflow) (0.2.0)\n",
            "Requirement already satisfied: numpy<2.0.0,>=1.23.5 in /usr/local/lib/python3.10/dist-packages (from tensorflow) (1.25.2)\n",
            "Requirement already satisfied: opt-einsum>=2.3.2 in /usr/local/lib/python3.10/dist-packages (from tensorflow) (3.3.0)\n",
            "Requirement already satisfied: packaging in /usr/local/lib/python3.10/dist-packages (from tensorflow) (24.0)\n",
            "Requirement already satisfied: protobuf!=4.21.0,!=4.21.1,!=4.21.2,!=4.21.3,!=4.21.4,!=4.21.5,<5.0.0dev,>=3.20.3 in /usr/local/lib/python3.10/dist-packages (from tensorflow) (3.20.3)\n",
            "Requirement already satisfied: setuptools in /usr/local/lib/python3.10/dist-packages (from tensorflow) (67.7.2)\n",
            "Requirement already satisfied: six>=1.12.0 in /usr/local/lib/python3.10/dist-packages (from tensorflow) (1.16.0)\n",
            "Requirement already satisfied: termcolor>=1.1.0 in /usr/local/lib/python3.10/dist-packages (from tensorflow) (2.4.0)\n",
            "Requirement already satisfied: typing-extensions>=3.6.6 in /usr/local/lib/python3.10/dist-packages (from tensorflow) (4.11.0)\n",
            "Requirement already satisfied: wrapt<1.15,>=1.11.0 in /usr/local/lib/python3.10/dist-packages (from tensorflow) (1.14.1)\n",
            "Requirement already satisfied: tensorflow-io-gcs-filesystem>=0.23.1 in /usr/local/lib/python3.10/dist-packages (from tensorflow) (0.37.0)\n",
            "Requirement already satisfied: grpcio<2.0,>=1.24.3 in /usr/local/lib/python3.10/dist-packages (from tensorflow) (1.64.0)\n",
            "Requirement already satisfied: tensorboard<2.16,>=2.15 in /usr/local/lib/python3.10/dist-packages (from tensorflow) (2.15.2)\n",
            "Requirement already satisfied: tensorflow-estimator<2.16,>=2.15.0 in /usr/local/lib/python3.10/dist-packages (from tensorflow) (2.15.0)\n",
            "Requirement already satisfied: keras<2.16,>=2.15.0 in /usr/local/lib/python3.10/dist-packages (from tensorflow) (2.15.0)\n",
            "Requirement already satisfied: wheel<1.0,>=0.23.0 in /usr/local/lib/python3.10/dist-packages (from astunparse>=1.6.0->tensorflow) (0.43.0)\n",
            "Requirement already satisfied: google-auth<3,>=1.6.3 in /usr/local/lib/python3.10/dist-packages (from tensorboard<2.16,>=2.15->tensorflow) (2.27.0)\n",
            "Requirement already satisfied: google-auth-oauthlib<2,>=0.5 in /usr/local/lib/python3.10/dist-packages (from tensorboard<2.16,>=2.15->tensorflow) (1.2.0)\n",
            "Requirement already satisfied: markdown>=2.6.8 in /usr/local/lib/python3.10/dist-packages (from tensorboard<2.16,>=2.15->tensorflow) (3.6)\n",
            "Requirement already satisfied: requests<3,>=2.21.0 in /usr/local/lib/python3.10/dist-packages (from tensorboard<2.16,>=2.15->tensorflow) (2.31.0)\n",
            "Requirement already satisfied: tensorboard-data-server<0.8.0,>=0.7.0 in /usr/local/lib/python3.10/dist-packages (from tensorboard<2.16,>=2.15->tensorflow) (0.7.2)\n",
            "Requirement already satisfied: werkzeug>=1.0.1 in /usr/local/lib/python3.10/dist-packages (from tensorboard<2.16,>=2.15->tensorflow) (3.0.3)\n",
            "Requirement already satisfied: cachetools<6.0,>=2.0.0 in /usr/local/lib/python3.10/dist-packages (from google-auth<3,>=1.6.3->tensorboard<2.16,>=2.15->tensorflow) (5.3.3)\n",
            "Requirement already satisfied: pyasn1-modules>=0.2.1 in /usr/local/lib/python3.10/dist-packages (from google-auth<3,>=1.6.3->tensorboard<2.16,>=2.15->tensorflow) (0.4.0)\n",
            "Requirement already satisfied: rsa<5,>=3.1.4 in /usr/local/lib/python3.10/dist-packages (from google-auth<3,>=1.6.3->tensorboard<2.16,>=2.15->tensorflow) (4.9)\n",
            "Requirement already satisfied: requests-oauthlib>=0.7.0 in /usr/local/lib/python3.10/dist-packages (from google-auth-oauthlib<2,>=0.5->tensorboard<2.16,>=2.15->tensorflow) (2.0.0)\n",
            "Requirement already satisfied: charset-normalizer<4,>=2 in /usr/local/lib/python3.10/dist-packages (from requests<3,>=2.21.0->tensorboard<2.16,>=2.15->tensorflow) (3.3.2)\n",
            "Requirement already satisfied: idna<4,>=2.5 in /usr/local/lib/python3.10/dist-packages (from requests<3,>=2.21.0->tensorboard<2.16,>=2.15->tensorflow) (3.7)\n",
            "Requirement already satisfied: urllib3<3,>=1.21.1 in /usr/local/lib/python3.10/dist-packages (from requests<3,>=2.21.0->tensorboard<2.16,>=2.15->tensorflow) (2.0.7)\n",
            "Requirement already satisfied: certifi>=2017.4.17 in /usr/local/lib/python3.10/dist-packages (from requests<3,>=2.21.0->tensorboard<2.16,>=2.15->tensorflow) (2024.2.2)\n",
            "Requirement already satisfied: MarkupSafe>=2.1.1 in /usr/local/lib/python3.10/dist-packages (from werkzeug>=1.0.1->tensorboard<2.16,>=2.15->tensorflow) (2.1.5)\n",
            "Requirement already satisfied: pyasn1<0.7.0,>=0.4.6 in /usr/local/lib/python3.10/dist-packages (from pyasn1-modules>=0.2.1->google-auth<3,>=1.6.3->tensorboard<2.16,>=2.15->tensorflow) (0.6.0)\n",
            "Requirement already satisfied: oauthlib>=3.0.0 in /usr/local/lib/python3.10/dist-packages (from requests-oauthlib>=0.7.0->google-auth-oauthlib<2,>=0.5->tensorboard<2.16,>=2.15->tensorflow) (3.2.2)\n"
          ]
        }
      ],
      "source": [
        "%pip install tensorflow"
      ]
    },
    {
      "cell_type": "markdown",
      "source": [
        "# DenseNet121\n",
        " CNN que es parte de la familia DenseNet (Densely Connected Convolutional Networks). La idea principal detrás de DenseNet es que cada capa está conectada a todas las demás capas de una manera densa. Esto significa que cada capa recibe como entrada no solo las salidas de la capa anterior, sino también todas las salidas de las capas anteriores.\n",
        "\n",
        "La ventaja de este enfoque es que permite una mayor reutilización de características, lo que puede mejorar la eficiencia y el rendimiento del modelo. DenseNet121 es una variante de DenseNet que tiene 121 capas"
      ],
      "metadata": {
        "id": "ilJsecia7lpk"
      }
    },
    {
      "cell_type": "code",
      "source": [
        "import tensorflow as tf\n",
        "from tensorflow.keras.applications import DenseNet121\n",
        "from tensorflow.keras import layers, models, Input\n",
        "from tensorflow.keras.preprocessing.image import ImageDataGenerator\n",
        "import matplotlib.pyplot as plt\n",
        "import seaborn as sns\n",
        "from sklearn.metrics import confusion_matrix, classification_report\n",
        "import numpy as np"
      ],
      "metadata": {
        "id": "-KeF62J9bVBY"
      },
      "execution_count": null,
      "outputs": []
    },
    {
      "cell_type": "code",
      "source": [
        "# Cargar el modelo base de DenseNet121\n",
        "base_model = DenseNet121(weights='imagenet', include_top=False, input_shape=(224, 224, 3))\n",
        "base_model.trainable = False\n",
        "\n",
        "# Crear entradas con la forma correcta\n",
        "inputs = Input(shape=(224, 224, 3))\n"
      ],
      "metadata": {
        "colab": {
          "base_uri": "https://localhost:8080/"
        },
        "id": "ZNlmmsLXbaMP",
        "outputId": "5b8ebda2-c2c1-41f8-bfe0-2a98b76765e1"
      },
      "execution_count": null,
      "outputs": [
        {
          "output_type": "stream",
          "name": "stdout",
          "text": [
            "Downloading data from https://storage.googleapis.com/tensorflow/keras-applications/densenet/densenet121_weights_tf_dim_ordering_tf_kernels_notop.h5\n",
            "29084464/29084464 [==============================] - 0s 0us/step\n"
          ]
        }
      ]
    },
    {
      "cell_type": "code",
      "source": [
        "# Pasar las entradas a través del modelo base\n",
        "x = base_model(inputs, training=False)\n",
        "\n",
        "# Añadir una capa de pooling global\n",
        "x = layers.GlobalAveragePooling2D()(x)\n",
        "\n",
        "# Añadir la capa densa final\n",
        "outputs = layers.Dense(6, activation='softmax')(x)\n",
        "\n",
        "# Combinar entradas y salidas para crear el modelo\n",
        "model = models.Model(inputs, outputs)\n"
      ],
      "metadata": {
        "id": "QDaUW4K-beat"
      },
      "execution_count": null,
      "outputs": []
    },
    {
      "cell_type": "code",
      "source": [
        "# Mostrar el resumen del modelo\n",
        "model.summary()\n"
      ],
      "metadata": {
        "colab": {
          "base_uri": "https://localhost:8080/"
        },
        "id": "npkS0DRqbhkG",
        "outputId": "88a7d36d-bd1b-46ee-dc47-e3d2a502012a"
      },
      "execution_count": null,
      "outputs": [
        {
          "output_type": "stream",
          "name": "stdout",
          "text": [
            "Model: \"model\"\n",
            "_________________________________________________________________\n",
            " Layer (type)                Output Shape              Param #   \n",
            "=================================================================\n",
            " input_2 (InputLayer)        [(None, 224, 224, 3)]     0         \n",
            "                                                                 \n",
            " densenet121 (Functional)    (None, 7, 7, 1024)        7037504   \n",
            "                                                                 \n",
            " global_average_pooling2d (  (None, 1024)              0         \n",
            " GlobalAveragePooling2D)                                         \n",
            "                                                                 \n",
            " dense (Dense)               (None, 6)                 6150      \n",
            "                                                                 \n",
            "=================================================================\n",
            "Total params: 7043654 (26.87 MB)\n",
            "Trainable params: 6150 (24.02 KB)\n",
            "Non-trainable params: 7037504 (26.85 MB)\n",
            "_________________________________________________________________\n"
          ]
        }
      ]
    },
    {
      "cell_type": "code",
      "source": [
        "# Compilar el modelo\n",
        "model.compile(loss='categorical_crossentropy', metrics=['categorical_accuracy'])"
      ],
      "metadata": {
        "id": "q-mInhKfbjrt"
      },
      "execution_count": null,
      "outputs": []
    },
    {
      "cell_type": "code",
      "source": [
        "# Configurar los generadores de datos\n",
        "datagen_train = ImageDataGenerator(samplewise_center=True,  # normalizar\n",
        "    rotation_range=10,  # rotar aleatoriamente\n",
        "    zoom_range=0.1,  # hacer zoom aleatoriamente\n",
        "    width_shift_range=0.1,  # desplazar horizontalmente\n",
        "    height_shift_range=0.1,  # desplazar verticalmente\n",
        "    horizontal_flip=True,  # voltear horizontalmente\n",
        "    vertical_flip=True)  # voltear verticalmente\n",
        "\n",
        "datagen_valid = ImageDataGenerator(samplewise_center=True)"
      ],
      "metadata": {
        "id": "gtSVJ3hibrCX"
      },
      "execution_count": null,
      "outputs": []
    },
    {
      "cell_type": "code",
      "source": [
        "from google.colab import drive\n",
        "drive.mount('/content/drive')"
      ],
      "metadata": {
        "colab": {
          "base_uri": "https://localhost:8080/"
        },
        "id": "o3IjjBlabyq1",
        "outputId": "152fb5cc-2435-4629-9d34-335744718e87"
      },
      "execution_count": null,
      "outputs": [
        {
          "output_type": "stream",
          "name": "stdout",
          "text": [
            "Mounted at /content/drive\n"
          ]
        }
      ]
    },
    {
      "cell_type": "code",
      "source": [
        "# Cargar y iterar sobre el conjunto de datos de entrenamiento\n",
        "train_it = datagen_train.flow_from_directory(\n",
        "    '/content/drive/MyDrive/Udea/Simulación/train',\n",
        "    target_size=(224, 224),\n",
        "    color_mode=\"rgb\",\n",
        "    class_mode=\"categorical\",\n",
        ")\n",
        "\n",
        "# Cargar y iterar sobre el conjunto de datos de validación\n",
        "valid_it = datagen_valid.flow_from_directory(\n",
        "    '/content/drive/MyDrive/Udea/Simulación/test',\n",
        "    target_size=(224, 224),\n",
        "    color_mode=\"rgb\",\n",
        "    class_mode=\"categorical\",\n",
        "    shuffle=False  # Asegurar que el orden de las imágenes sea el mismo para predicciones y etiquetas\n",
        ")\n"
      ],
      "metadata": {
        "colab": {
          "base_uri": "https://localhost:8080/"
        },
        "id": "9dymKsfOb4yZ",
        "outputId": "2af21a73-04f7-4b99-b4c9-67255f364dee"
      },
      "execution_count": null,
      "outputs": [
        {
          "output_type": "stream",
          "name": "stdout",
          "text": [
            "Found 9833 images belonging to 6 classes.\n",
            "Found 2698 images belonging to 6 classes.\n"
          ]
        }
      ]
    },
    {
      "cell_type": "code",
      "source": [
        "# Entrenar el modelo\n",
        "model.fit(train_it,\n",
        "          validation_data=valid_it,\n",
        "          steps_per_epoch=train_it.samples // train_it.batch_size,\n",
        "          validation_steps=valid_it.samples // valid_it.batch_size,\n",
        "          epochs=20)\n"
      ],
      "metadata": {
        "colab": {
          "base_uri": "https://localhost:8080/"
        },
        "id": "wlURx206b7q8",
        "outputId": "d1e467b7-77e2-479d-d1f7-88ed9c860472"
      },
      "execution_count": null,
      "outputs": [
        {
          "output_type": "stream",
          "name": "stdout",
          "text": [
            "Epoch 1/20\n",
            "307/307 [==============================] - 2677s 9s/step - loss: 1.8177 - categorical_accuracy: 0.6049 - val_loss: 1.0058 - val_categorical_accuracy: 0.7321\n",
            "Epoch 2/20\n",
            "307/307 [==============================] - 277s 902ms/step - loss: 0.9917 - categorical_accuracy: 0.7492 - val_loss: 0.7901 - val_categorical_accuracy: 0.7760\n",
            "Epoch 3/20\n",
            "307/307 [==============================] - 273s 887ms/step - loss: 0.8751 - categorical_accuracy: 0.7782 - val_loss: 0.6608 - val_categorical_accuracy: 0.8051\n",
            "Epoch 4/20\n",
            "307/307 [==============================] - 271s 881ms/step - loss: 0.7903 - categorical_accuracy: 0.7946 - val_loss: 0.4936 - val_categorical_accuracy: 0.8304\n",
            "Epoch 5/20\n",
            "307/307 [==============================] - 268s 871ms/step - loss: 0.7361 - categorical_accuracy: 0.8062 - val_loss: 0.6591 - val_categorical_accuracy: 0.7984\n",
            "Epoch 6/20\n",
            "307/307 [==============================] - 265s 864ms/step - loss: 0.7306 - categorical_accuracy: 0.8110 - val_loss: 0.6017 - val_categorical_accuracy: 0.8348\n",
            "Epoch 7/20\n",
            "307/307 [==============================] - 271s 883ms/step - loss: 0.6639 - categorical_accuracy: 0.8229 - val_loss: 0.5219 - val_categorical_accuracy: 0.8516\n",
            "Epoch 8/20\n",
            "307/307 [==============================] - 272s 885ms/step - loss: 0.6379 - categorical_accuracy: 0.8342 - val_loss: 0.8344 - val_categorical_accuracy: 0.7801\n",
            "Epoch 9/20\n",
            "307/307 [==============================] - 268s 872ms/step - loss: 0.6334 - categorical_accuracy: 0.8280 - val_loss: 0.9562 - val_categorical_accuracy: 0.7489\n",
            "Epoch 10/20\n",
            "307/307 [==============================] - 267s 870ms/step - loss: 0.6080 - categorical_accuracy: 0.8360 - val_loss: 0.7570 - val_categorical_accuracy: 0.8095\n",
            "Epoch 11/20\n",
            "307/307 [==============================] - 265s 862ms/step - loss: 0.6183 - categorical_accuracy: 0.8373 - val_loss: 0.5414 - val_categorical_accuracy: 0.8389\n",
            "Epoch 12/20\n",
            "307/307 [==============================] - 263s 856ms/step - loss: 0.5544 - categorical_accuracy: 0.8474 - val_loss: 0.7568 - val_categorical_accuracy: 0.7999\n",
            "Epoch 13/20\n",
            "307/307 [==============================] - 263s 856ms/step - loss: 0.5641 - categorical_accuracy: 0.8495 - val_loss: 1.1398 - val_categorical_accuracy: 0.7772\n",
            "Epoch 14/20\n",
            "307/307 [==============================] - 262s 855ms/step - loss: 0.5275 - categorical_accuracy: 0.8576 - val_loss: 0.5385 - val_categorical_accuracy: 0.8449\n",
            "Epoch 15/20\n",
            "307/307 [==============================] - 269s 875ms/step - loss: 0.5496 - categorical_accuracy: 0.8523 - val_loss: 0.4524 - val_categorical_accuracy: 0.8650\n",
            "Epoch 16/20\n",
            "307/307 [==============================] - 265s 861ms/step - loss: 0.5260 - categorical_accuracy: 0.8535 - val_loss: 1.0538 - val_categorical_accuracy: 0.7533\n",
            "Epoch 17/20\n",
            "307/307 [==============================] - 265s 864ms/step - loss: 0.5177 - categorical_accuracy: 0.8593 - val_loss: 1.0778 - val_categorical_accuracy: 0.7493\n",
            "Epoch 18/20\n",
            "307/307 [==============================] - 267s 869ms/step - loss: 0.5208 - categorical_accuracy: 0.8599 - val_loss: 1.7451 - val_categorical_accuracy: 0.6656\n",
            "Epoch 19/20\n",
            "307/307 [==============================] - 267s 869ms/step - loss: 0.5287 - categorical_accuracy: 0.8621 - val_loss: 0.4629 - val_categorical_accuracy: 0.8612\n",
            "Epoch 20/20\n",
            "307/307 [==============================] - 266s 864ms/step - loss: 0.4988 - categorical_accuracy: 0.8653 - val_loss: 1.7720 - val_categorical_accuracy: 0.7221\n"
          ]
        },
        {
          "output_type": "execute_result",
          "data": {
            "text/plain": [
              "<keras.src.callbacks.History at 0x7e98580143d0>"
            ]
          },
          "metadata": {},
          "execution_count": 10
        }
      ]
    },
    {
      "cell_type": "code",
      "source": [
        "# Evaluar el modelo\n",
        "model.evaluate(valid_it, steps=valid_it.samples // valid_it.batch_size)"
      ],
      "metadata": {
        "colab": {
          "base_uri": "https://localhost:8080/"
        },
        "id": "yFCza2J9cC0e",
        "outputId": "29980c83-92a3-4380-c105-d13eac9c70ee"
      },
      "execution_count": null,
      "outputs": [
        {
          "output_type": "stream",
          "name": "stdout",
          "text": [
            "84/84 [==============================] - 45s 531ms/step - loss: 1.7720 - categorical_accuracy: 0.7221\n"
          ]
        },
        {
          "output_type": "execute_result",
          "data": {
            "text/plain": [
              "[1.7720046043395996, 0.7220982313156128]"
            ]
          },
          "metadata": {},
          "execution_count": 11
        }
      ]
    },
    {
      "cell_type": "code",
      "source": [
        "# Generar predicciones\n",
        "valid_it.reset()  # Reiniciar el generador antes de predecir\n",
        "y_pred = model.predict(valid_it, steps=valid_it.samples // valid_it.batch_size + 1, verbose=1)\n",
        "y_true = valid_it.classes"
      ],
      "metadata": {
        "colab": {
          "base_uri": "https://localhost:8080/"
        },
        "id": "SM9CkicKcFLY",
        "outputId": "85db2ce3-97cc-4d8e-a8bf-a3f3df37029e"
      },
      "execution_count": null,
      "outputs": [
        {
          "output_type": "stream",
          "name": "stdout",
          "text": [
            "85/85 [==============================] - 48s 536ms/step\n"
          ]
        }
      ]
    },
    {
      "cell_type": "code",
      "source": [
        "# Asegurarse de que y_pred cubra todas las muestras\n",
        "if y_pred.shape[0] > y_true.shape[0]:\n",
        "    y_pred = y_pred[:y_true.shape[0]]\n",
        "elif y_pred.shape[0] < y_true.shape[0]:\n",
        "    y_true = y_true[:y_pred.shape[0]]\n"
      ],
      "metadata": {
        "id": "CuZZ3_6acH4Y"
      },
      "execution_count": null,
      "outputs": []
    },
    {
      "cell_type": "code",
      "source": [
        "# Convertir las predicciones de probabilidades a etiquetas de clase\n",
        "y_pred_classes = np.argmax(y_pred, axis=1)\n",
        "\n",
        "# Calcular la matriz de confusión\n",
        "cm = confusion_matrix(y_true, y_pred_classes)"
      ],
      "metadata": {
        "id": "6DRM8KpTcLN3"
      },
      "execution_count": null,
      "outputs": []
    },
    {
      "cell_type": "code",
      "source": [
        "# Visualizar la matriz de confusión\n",
        "plt.figure(figsize=(10, 8))\n",
        "sns.heatmap(cm, annot=True, fmt='d', cmap='Blues', xticklabels=valid_it.class_indices.keys(), yticklabels=valid_it.class_indices.keys())\n",
        "plt.title('DenseNet121 Confusion Matrix')\n",
        "plt.xlabel('Predicted Labels')\n",
        "plt.ylabel('True Labels')\n",
        "plt.show()"
      ],
      "metadata": {
        "colab": {
          "base_uri": "https://localhost:8080/",
          "height": 718
        },
        "id": "n8H_uphccOqS",
        "outputId": "4bf642e7-80c2-4fce-b19d-4a4ec2533a73"
      },
      "execution_count": null,
      "outputs": [
        {
          "output_type": "display_data",
          "data": {
            "text/plain": [
              "<Figure size 1000x800 with 2 Axes>"
            ],
            "image/png": "[encoded data removed]"
          },
          "metadata": {}
        }
      ]
    },
    {
      "cell_type": "code",
      "source": [
        "# Calcular e imprimir el informe de clasificación\n",
        "class_report = classification_report(y_true, y_pred_classes, target_names=valid_it.class_indices.keys())\n",
        "print(\"DenseNet121 Classification Report:\")\n",
        "print(class_report)"
      ],
      "metadata": {
        "colab": {
          "base_uri": "https://localhost:8080/"
        },
        "id": "IsfqyLOwcQ09",
        "outputId": "55f9c604-7cd2-4a57-b2fd-b0c45b8fd1ff"
      },
      "execution_count": null,
      "outputs": [
        {
          "output_type": "stream",
          "name": "stdout",
          "text": [
            "Classification Report:\n",
            "               precision    recall  f1-score   support\n",
            "\n",
            "  freshapples       0.99      0.42      0.59       395\n",
            "  freshbanana       0.98      0.67      0.80       381\n",
            " freshoranges       0.95      0.73      0.82       388\n",
            " rottenapples       0.46      0.99      0.63       601\n",
            " rottenbanana       0.96      0.93      0.95       530\n",
            "rottenoranges       0.91      0.39      0.55       403\n",
            "\n",
            "     accuracy                           0.72      2698\n",
            "    macro avg       0.88      0.69      0.72      2698\n",
            " weighted avg       0.85      0.72      0.72      2698\n",
            "\n"
          ]
        }
      ]
    },
    {
      "cell_type": "code",
      "source": [
        "import pickle\n",
        "from google.colab import files\n",
        "\n",
        "# Guarda el modelo entrenado en un archivo .pkl\n",
        "with open('modelo_entrenado.pkl', 'wb') as f:\n",
        "    pickle.dump(model, f)\n",
        "\n",
        "# Descarga el archivo .pkl desde Google Colab\n",
        "files.download('modelo_entrenado.pkl')"
      ],
      "metadata": {
        "colab": {
          "base_uri": "https://localhost:8080/",
          "height": 34
        },
        "id": "HwX8yxA0cUxe",
        "outputId": "34a73a17-dfa7-466e-86de-f6b3804a4a9f"
      },
      "execution_count": null,
      "outputs": [
        {
          "output_type": "display_data",
          "data": {
            "text/plain": [
              "<IPython.core.display.Javascript object>"
            ],
            "application/javascript": [
              "\n",
              "    async function download(id, filename, size) {\n",
              "      if (!google.colab.kernel.accessAllowed) {\n",
              "        return;\n",
              "      }\n",
              "      const div = document.createElement('div');\n",
              "      const label = document.createElement('label');\n",
              "      label.textContent = `Downloading \"${filename}\": `;\n",
              "      div.appendChild(label);\n",
              "      const progress = document.createElement('progress');\n",
              "      progress.max = size;\n",
              "      div.appendChild(progress);\n",
              "      document.body.appendChild(div);\n",
              "\n",
              "      const buffers = [];\n",
              "      let downloaded = 0;\n",
              "\n",
              "      const channel = await google.colab.kernel.comms.open(id);\n",
              "      // Send a message to notify the kernel that we're ready.\n",
              "      channel.send({})\n",
              "\n",
              "      for await (const message of channel.messages) {\n",
              "        // Send a message to notify the kernel that we're ready.\n",
              "        channel.send({})\n",
              "        if (message.buffers) {\n",
              "          for (const buffer of message.buffers) {\n",
              "            buffers.push(buffer);\n",
              "            downloaded += buffer.byteLength;\n",
              "            progress.value = downloaded;\n",
              "          }\n",
              "        }\n",
              "      }\n",
              "      const blob = new Blob(buffers, {type: 'application/binary'});\n",
              "      const a = document.createElement('a');\n",
              "      a.href = window.URL.createObjectURL(blob);\n",
              "      a.download = filename;\n",
              "      div.appendChild(a);\n",
              "      a.click();\n",
              "      div.remove();\n",
              "    }\n",
              "  "
            ]
          },
          "metadata": {}
        },
        {
          "output_type": "display_data",
          "data": {
            "text/plain": [
              "<IPython.core.display.Javascript object>"
            ],
            "application/javascript": [
              "download(\"download_07964645-099e-4048-bec8-04971d6febae\", \"modelo_entrenado.pkl\", 29539074)"
            ]
          },
          "metadata": {}
        }
      ]
    }
  ]
}