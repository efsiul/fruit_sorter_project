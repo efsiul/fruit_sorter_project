{
  "nbformat": 4,
  "nbformat_minor": 0,
  "metadata": {
    "colab": {
      "provenance": [],
      "machine_shape": "hm",
      "gpuType": "V28",
      "include_colab_link": true
    },
    "kernelspec": {
      "name": "python3",
      "display_name": "Python 3"
    },
    "language_info": {
      "name": "python"
    },
    "accelerator": "TPU"
  },
  "cells": [
    {
      "cell_type": "markdown",
      "metadata": {
        "id": "view-in-github",
        "colab_type": "text"
      },
      "source": [
        "<a href=\"https://colab.research.google.com/github/efsiul/fruit_sorter_project/blob/master/Luis_Cadavid_Johana_Rios_InceptionV3.ipynb\" target=\"_parent\"><img src=\"https://colab.research.google.com/assets/colab-badge.svg\" alt=\"Open In Colab\"/></a>"
      ]
    },
    {
      "cell_type": "code",
      "execution_count": null,
      "metadata": {
        "colab": {
          "base_uri": "https://localhost:8080/"
        },
        "id": "4oRetTrGqTQY",
        "outputId": "07c1c904-90e7-4460-8912-01d80b7d9c5c"
      },
      "outputs": [
        {
          "output_type": "stream",
          "name": "stdout",
          "text": [
            "Requirement already satisfied: tensorflow in /usr/local/lib/python3.10/dist-packages (2.15.0)\n",
            "Requirement already satisfied: absl-py>=1.0.0 in /usr/local/lib/python3.10/dist-packages (from tensorflow) (1.4.0)\n",
            "Requirement already satisfied: astunparse>=1.6.0 in /usr/local/lib/python3.10/dist-packages (from tensorflow) (1.6.3)\n",
            "Requirement already satisfied: flatbuffers>=23.5.26 in /usr/local/lib/python3.10/dist-packages (from tensorflow) (24.3.25)\n",
            "Requirement already satisfied: gast!=0.5.0,!=0.5.1,!=0.5.2,>=0.2.1 in /usr/local/lib/python3.10/dist-packages (from tensorflow) (0.5.4)\n",
            "Requirement already satisfied: google-pasta>=0.1.1 in /usr/local/lib/python3.10/dist-packages (from tensorflow) (0.2.0)\n",
            "Requirement already satisfied: h5py>=2.9.0 in /usr/local/lib/python3.10/dist-packages (from tensorflow) (3.11.0)\n",
            "Requirement already satisfied: libclang>=13.0.0 in /usr/local/lib/python3.10/dist-packages (from tensorflow) (18.1.1)\n",
            "Requirement already satisfied: ml-dtypes~=0.2.0 in /usr/local/lib/python3.10/dist-packages (from tensorflow) (0.2.0)\n",
            "Requirement already satisfied: numpy<2.0.0,>=1.23.5 in /usr/local/lib/python3.10/dist-packages (from tensorflow) (1.25.2)\n",
            "Requirement already satisfied: opt-einsum>=2.3.2 in /usr/local/lib/python3.10/dist-packages (from tensorflow) (3.3.0)\n",
            "Requirement already satisfied: packaging in /usr/local/lib/python3.10/dist-packages (from tensorflow) (24.0)\n",
            "Requirement already satisfied: protobuf!=4.21.0,!=4.21.1,!=4.21.2,!=4.21.3,!=4.21.4,!=4.21.5,<5.0.0dev,>=3.20.3 in /usr/local/lib/python3.10/dist-packages (from tensorflow) (3.20.3)\n",
            "Requirement already satisfied: setuptools in /usr/local/lib/python3.10/dist-packages (from tensorflow) (67.7.2)\n",
            "Requirement already satisfied: six>=1.12.0 in /usr/local/lib/python3.10/dist-packages (from tensorflow) (1.16.0)\n",
            "Requirement already satisfied: termcolor>=1.1.0 in /usr/local/lib/python3.10/dist-packages (from tensorflow) (2.4.0)\n",
            "Requirement already satisfied: typing-extensions>=3.6.6 in /usr/local/lib/python3.10/dist-packages (from tensorflow) (4.11.0)\n",
            "Requirement already satisfied: wrapt<1.15,>=1.11.0 in /usr/local/lib/python3.10/dist-packages (from tensorflow) (1.14.1)\n",
            "Requirement already satisfied: tensorflow-io-gcs-filesystem>=0.23.1 in /usr/local/lib/python3.10/dist-packages (from tensorflow) (0.37.0)\n",
            "Requirement already satisfied: grpcio<2.0,>=1.24.3 in /usr/local/lib/python3.10/dist-packages (from tensorflow) (1.64.0)\n",
            "Requirement already satisfied: tensorboard<2.16,>=2.15 in /usr/local/lib/python3.10/dist-packages (from tensorflow) (2.15.2)\n",
            "Requirement already satisfied: tensorflow-estimator<2.16,>=2.15.0 in /usr/local/lib/python3.10/dist-packages (from tensorflow) (2.15.0)\n",
            "Requirement already satisfied: keras<2.16,>=2.15.0 in /usr/local/lib/python3.10/dist-packages (from tensorflow) (2.15.0)\n",
            "Requirement already satisfied: wheel<1.0,>=0.23.0 in /usr/local/lib/python3.10/dist-packages (from astunparse>=1.6.0->tensorflow) (0.43.0)\n",
            "Requirement already satisfied: google-auth<3,>=1.6.3 in /usr/local/lib/python3.10/dist-packages (from tensorboard<2.16,>=2.15->tensorflow) (2.27.0)\n",
            "Requirement already satisfied: google-auth-oauthlib<2,>=0.5 in /usr/local/lib/python3.10/dist-packages (from tensorboard<2.16,>=2.15->tensorflow) (1.2.0)\n",
            "Requirement already satisfied: markdown>=2.6.8 in /usr/local/lib/python3.10/dist-packages (from tensorboard<2.16,>=2.15->tensorflow) (3.6)\n",
            "Requirement already satisfied: requests<3,>=2.21.0 in /usr/local/lib/python3.10/dist-packages (from tensorboard<2.16,>=2.15->tensorflow) (2.31.0)\n",
            "Requirement already satisfied: tensorboard-data-server<0.8.0,>=0.7.0 in /usr/local/lib/python3.10/dist-packages (from tensorboard<2.16,>=2.15->tensorflow) (0.7.2)\n",
            "Requirement already satisfied: werkzeug>=1.0.1 in /usr/local/lib/python3.10/dist-packages (from tensorboard<2.16,>=2.15->tensorflow) (3.0.3)\n",
            "Requirement already satisfied: cachetools<6.0,>=2.0.0 in /usr/local/lib/python3.10/dist-packages (from google-auth<3,>=1.6.3->tensorboard<2.16,>=2.15->tensorflow) (5.3.3)\n",
            "Requirement already satisfied: pyasn1-modules>=0.2.1 in /usr/local/lib/python3.10/dist-packages (from google-auth<3,>=1.6.3->tensorboard<2.16,>=2.15->tensorflow) (0.4.0)\n",
            "Requirement already satisfied: rsa<5,>=3.1.4 in /usr/local/lib/python3.10/dist-packages (from google-auth<3,>=1.6.3->tensorboard<2.16,>=2.15->tensorflow) (4.9)\n",
            "Requirement already satisfied: requests-oauthlib>=0.7.0 in /usr/local/lib/python3.10/dist-packages (from google-auth-oauthlib<2,>=0.5->tensorboard<2.16,>=2.15->tensorflow) (2.0.0)\n",
            "Requirement already satisfied: charset-normalizer<4,>=2 in /usr/local/lib/python3.10/dist-packages (from requests<3,>=2.21.0->tensorboard<2.16,>=2.15->tensorflow) (3.3.2)\n",
            "Requirement already satisfied: idna<4,>=2.5 in /usr/local/lib/python3.10/dist-packages (from requests<3,>=2.21.0->tensorboard<2.16,>=2.15->tensorflow) (3.7)\n",
            "Requirement already satisfied: urllib3<3,>=1.21.1 in /usr/local/lib/python3.10/dist-packages (from requests<3,>=2.21.0->tensorboard<2.16,>=2.15->tensorflow) (2.0.7)\n",
            "Requirement already satisfied: certifi>=2017.4.17 in /usr/local/lib/python3.10/dist-packages (from requests<3,>=2.21.0->tensorboard<2.16,>=2.15->tensorflow) (2024.2.2)\n",
            "Requirement already satisfied: MarkupSafe>=2.1.1 in /usr/local/lib/python3.10/dist-packages (from werkzeug>=1.0.1->tensorboard<2.16,>=2.15->tensorflow) (2.1.5)\n",
            "Requirement already satisfied: pyasn1<0.7.0,>=0.4.6 in /usr/local/lib/python3.10/dist-packages (from pyasn1-modules>=0.2.1->google-auth<3,>=1.6.3->tensorboard<2.16,>=2.15->tensorflow) (0.6.0)\n",
            "Requirement already satisfied: oauthlib>=3.0.0 in /usr/local/lib/python3.10/dist-packages (from requests-oauthlib>=0.7.0->google-auth-oauthlib<2,>=0.5->tensorboard<2.16,>=2.15->tensorflow) (3.2.2)\n"
          ]
        }
      ],
      "source": [
        "%pip install tensorflow"
      ]
    },
    {
      "cell_type": "code",
      "source": [
        "import tensorflow as tf\n",
        "from tensorflow.keras.applications import InceptionV3\n",
        "from tensorflow.keras import layers, models, Input\n",
        "from tensorflow.keras.preprocessing.image import ImageDataGenerator\n",
        "import matplotlib.pyplot as plt\n",
        "import seaborn as sns\n",
        "from sklearn.metrics import confusion_matrix, classification_report\n",
        "import numpy as np"
      ],
      "metadata": {
        "id": "6lGyFjBDqdRc"
      },
      "execution_count": null,
      "outputs": []
    },
    {
      "cell_type": "code",
      "source": [
        "# Cargar el modelo base de InceptionV3\n",
        "base_model = InceptionV3(weights='imagenet', include_top=False, input_shape=(224, 224, 3))\n",
        "base_model.trainable = False"
      ],
      "metadata": {
        "id": "Ev-57SPFqmo1",
        "colab": {
          "base_uri": "https://localhost:8080/"
        },
        "outputId": "2432d29d-36b1-421d-fa89-c1f2827eba4a"
      },
      "execution_count": null,
      "outputs": [
        {
          "output_type": "stream",
          "name": "stdout",
          "text": [
            "Downloading data from https://storage.googleapis.com/tensorflow/keras-applications/inception_v3/inception_v3_weights_tf_dim_ordering_tf_kernels_notop.h5\n",
            "87910968/87910968 [==============================] - 0s 0us/step\n"
          ]
        }
      ]
    },
    {
      "cell_type": "code",
      "source": [
        "# Crear entradas con la forma correcta\n",
        "inputs = Input(shape=(224, 224, 3))\n",
        "\n",
        "# Pasar las entradas a través del modelo base\n",
        "x = base_model(inputs, training=False)\n",
        "\n",
        "# Añadir una capa de pooling global\n",
        "x = layers.GlobalAveragePooling2D()(x)\n",
        "\n",
        "# Añadir la capa densa final\n",
        "outputs = layers.Dense(6, activation='softmax')(x)\n",
        "\n",
        "# Combinar entradas y salidas para crear el modelo\n",
        "model = models.Model(inputs, outputs)"
      ],
      "metadata": {
        "id": "cnrnG52Uqz2C"
      },
      "execution_count": null,
      "outputs": []
    },
    {
      "cell_type": "code",
      "source": [
        "# Mostrar el resumen del modelo\n",
        "model.summary()\n",
        "\n",
        "# Compilar el modelo\n",
        "model.compile(loss='categorical_crossentropy', metrics=['categorical_accuracy'])"
      ],
      "metadata": {
        "colab": {
          "base_uri": "https://localhost:8080/"
        },
        "id": "yr02hQk1rFAz",
        "outputId": "44fad184-2812-4f54-b1fd-25481f12e3db"
      },
      "execution_count": null,
      "outputs": [
        {
          "output_type": "stream",
          "name": "stdout",
          "text": [
            "Model: \"model\"\n",
            "_________________________________________________________________\n",
            " Layer (type)                Output Shape              Param #   \n",
            "=================================================================\n",
            " input_2 (InputLayer)        [(None, 224, 224, 3)]     0         \n",
            "                                                                 \n",
            " inception_v3 (Functional)   (None, 5, 5, 2048)        21802784  \n",
            "                                                                 \n",
            " global_average_pooling2d (  (None, 2048)              0         \n",
            " GlobalAveragePooling2D)                                         \n",
            "                                                                 \n",
            " dense (Dense)               (None, 6)                 12294     \n",
            "                                                                 \n",
            "=================================================================\n",
            "Total params: 21815078 (83.22 MB)\n",
            "Trainable params: 12294 (48.02 KB)\n",
            "Non-trainable params: 21802784 (83.17 MB)\n",
            "_________________________________________________________________\n"
          ]
        }
      ]
    },
    {
      "cell_type": "code",
      "source": [
        "# Configurar los generadores de datos\n",
        "datagen_train = ImageDataGenerator(samplewise_center=True,  # normalizar\n",
        "    rotation_range=10,  # rotar aleatoriamente\n",
        "    zoom_range=0.1,  # hacer zoom aleatoriamente\n",
        "    width_shift_range=0.1,  # desplazar horizontalmente\n",
        "    height_shift_range=0.1,  # desplazar verticalmente\n",
        "    horizontal_flip=True,  # voltear horizontalmente\n",
        "    vertical_flip=True)  # voltear verticalmente\n",
        "\n",
        "datagen_valid = ImageDataGenerator(samplewise_center=True)"
      ],
      "metadata": {
        "id": "jh_FvU0qrItI"
      },
      "execution_count": null,
      "outputs": []
    },
    {
      "cell_type": "code",
      "source": [
        "from google.colab import drive\n",
        "drive.mount('/content/drive')"
      ],
      "metadata": {
        "colab": {
          "base_uri": "https://localhost:8080/"
        },
        "id": "CKqwKEHfrNgM",
        "outputId": "7647e19c-a82d-48e8-cda5-2fccedca1968"
      },
      "execution_count": null,
      "outputs": [
        {
          "output_type": "stream",
          "name": "stdout",
          "text": [
            "Mounted at /content/drive\n"
          ]
        }
      ]
    },
    {
      "cell_type": "code",
      "source": [
        "# Cargar y iterar sobre el conjunto de datos de entrenamiento\n",
        "train_it = datagen_train.flow_from_directory(\n",
        "    '/content/drive/MyDrive/Udea/Simulación/train',\n",
        "    target_size=(224, 224),\n",
        "    color_mode=\"rgb\",\n",
        "    class_mode=\"categorical\",\n",
        ")\n",
        "\n",
        "# Cargar y iterar sobre el conjunto de datos de validación\n",
        "valid_it = datagen_valid.flow_from_directory(\n",
        "    '/content/drive/MyDrive/Udea/Simulación/test',\n",
        "    target_size=(224, 224),\n",
        "    color_mode=\"rgb\",\n",
        "    class_mode=\"categorical\",\n",
        "    shuffle=False  # Asegurar que el orden de las imágenes sea el mismo para predicciones y etiquetas\n",
        ")"
      ],
      "metadata": {
        "colab": {
          "base_uri": "https://localhost:8080/"
        },
        "id": "KX1rXrlwrMGk",
        "outputId": "f120ea8c-694d-437c-ba13-a23eac896b35"
      },
      "execution_count": null,
      "outputs": [
        {
          "output_type": "stream",
          "name": "stdout",
          "text": [
            "Found 9833 images belonging to 6 classes.\n",
            "Found 2698 images belonging to 6 classes.\n"
          ]
        }
      ]
    },
    {
      "cell_type": "code",
      "source": [
        "# Entrenar el modelo\n",
        "model.fit(train_it,\n",
        "          validation_data=valid_it,\n",
        "          steps_per_epoch=train_it.samples / train_it.batch_size,\n",
        "          validation_steps=valid_it.samples / valid_it.batch_size,\n",
        "          epochs=20)"
      ],
      "metadata": {
        "colab": {
          "base_uri": "https://localhost:8080/"
        },
        "id": "ItwaE-3xrkjb",
        "outputId": "0f59135c-3531-4323-d935-ca40f6fa9622"
      },
      "execution_count": null,
      "outputs": [
        {
          "output_type": "stream",
          "name": "stdout",
          "text": [
            "Epoch 1/20\n",
            "307/307 [==============================] - 2531s 8s/step - loss: 10.7953 - categorical_accuracy: 0.3714 - val_loss: 7.4048 - val_categorical_accuracy: 0.4366\n",
            "Epoch 2/20\n",
            "307/307 [==============================] - 204s 665ms/step - loss: 8.1857 - categorical_accuracy: 0.4583 - val_loss: 10.6514 - val_categorical_accuracy: 0.3836\n",
            "Epoch 3/20\n",
            "307/307 [==============================] - 204s 664ms/step - loss: 7.3408 - categorical_accuracy: 0.4939 - val_loss: 5.6014 - val_categorical_accuracy: 0.5526\n",
            "Epoch 4/20\n",
            "307/307 [==============================] - 203s 660ms/step - loss: 7.1834 - categorical_accuracy: 0.5092 - val_loss: 3.0733 - val_categorical_accuracy: 0.6353\n",
            "Epoch 5/20\n",
            "307/307 [==============================] - 203s 661ms/step - loss: 6.9623 - categorical_accuracy: 0.5149 - val_loss: 6.4385 - val_categorical_accuracy: 0.5426\n",
            "Epoch 6/20\n",
            "307/307 [==============================] - 204s 662ms/step - loss: 6.6677 - categorical_accuracy: 0.5252 - val_loss: 3.7837 - val_categorical_accuracy: 0.6245\n",
            "Epoch 7/20\n",
            "307/307 [==============================] - 207s 673ms/step - loss: 6.7552 - categorical_accuracy: 0.5338 - val_loss: 5.5123 - val_categorical_accuracy: 0.5789\n",
            "Epoch 8/20\n",
            "307/307 [==============================] - 203s 659ms/step - loss: 6.4146 - categorical_accuracy: 0.5474 - val_loss: 4.3781 - val_categorical_accuracy: 0.6027\n",
            "Epoch 9/20\n",
            "307/307 [==============================] - 205s 666ms/step - loss: 6.4351 - categorical_accuracy: 0.5560 - val_loss: 6.9120 - val_categorical_accuracy: 0.5411\n",
            "Epoch 10/20\n",
            "307/307 [==============================] - 203s 662ms/step - loss: 6.4308 - categorical_accuracy: 0.5464 - val_loss: 8.2597 - val_categorical_accuracy: 0.4737\n",
            "Epoch 11/20\n",
            "307/307 [==============================] - 203s 660ms/step - loss: 6.1437 - categorical_accuracy: 0.5576 - val_loss: 10.9708 - val_categorical_accuracy: 0.3732\n",
            "Epoch 12/20\n",
            "307/307 [==============================] - 203s 661ms/step - loss: 6.4412 - categorical_accuracy: 0.5529 - val_loss: 5.1771 - val_categorical_accuracy: 0.6201\n",
            "Epoch 13/20\n",
            "307/307 [==============================] - 204s 663ms/step - loss: 6.2140 - categorical_accuracy: 0.5558 - val_loss: 3.4946 - val_categorical_accuracy: 0.6231\n",
            "Epoch 14/20\n",
            "307/307 [==============================] - 202s 658ms/step - loss: 6.2216 - categorical_accuracy: 0.5597 - val_loss: 6.5926 - val_categorical_accuracy: 0.5630\n",
            "Epoch 15/20\n",
            "307/307 [==============================] - 203s 661ms/step - loss: 6.1861 - categorical_accuracy: 0.5697 - val_loss: 4.7557 - val_categorical_accuracy: 0.5934\n",
            "Epoch 16/20\n",
            "307/307 [==============================] - 204s 664ms/step - loss: 6.1260 - categorical_accuracy: 0.5635 - val_loss: 4.7501 - val_categorical_accuracy: 0.6282\n",
            "Epoch 17/20\n",
            "307/307 [==============================] - 206s 671ms/step - loss: 6.0642 - categorical_accuracy: 0.5739 - val_loss: 4.0095 - val_categorical_accuracy: 0.5919\n",
            "Epoch 18/20\n",
            "307/307 [==============================] - 204s 665ms/step - loss: 6.0268 - categorical_accuracy: 0.5711 - val_loss: 3.4268 - val_categorical_accuracy: 0.6386\n",
            "Epoch 19/20\n",
            "307/307 [==============================] - 202s 657ms/step - loss: 6.0612 - categorical_accuracy: 0.5745 - val_loss: 3.9936 - val_categorical_accuracy: 0.6256\n",
            "Epoch 20/20\n",
            "307/307 [==============================] - 203s 660ms/step - loss: 6.0780 - categorical_accuracy: 0.5732 - val_loss: 14.1921 - val_categorical_accuracy: 0.3688\n"
          ]
        },
        {
          "output_type": "execute_result",
          "data": {
            "text/plain": [
              "<keras.src.callbacks.History at 0x789c245380d0>"
            ]
          },
          "metadata": {},
          "execution_count": 9
        }
      ]
    },
    {
      "cell_type": "code",
      "source": [
        "# Evaluar el modelo\n",
        "model.evaluate(valid_it, steps=valid_it.samples / valid_it.batch_size)"
      ],
      "metadata": {
        "id": "Gpd4MyILrmyz",
        "colab": {
          "base_uri": "https://localhost:8080/"
        },
        "outputId": "edac8df6-209d-461c-f9ef-cfa25621b351"
      },
      "execution_count": null,
      "outputs": [
        {
          "output_type": "stream",
          "name": "stdout",
          "text": [
            "84/84 [==============================] - 26s 309ms/step - loss: 14.1921 - categorical_accuracy: 0.3688\n"
          ]
        },
        {
          "output_type": "execute_result",
          "data": {
            "text/plain": [
              "[14.19205093383789, 0.36879169940948486]"
            ]
          },
          "metadata": {},
          "execution_count": 10
        }
      ]
    },
    {
      "cell_type": "code",
      "source": [
        "# Generar predicciones\n",
        "valid_it.reset()  # Reiniciar el generador antes de predecir\n",
        "y_pred = model.predict(valid_it, steps=valid_it.samples / valid_it.batch_size + 1, verbose=1)\n",
        "y_true = valid_it.classes\n"
      ],
      "metadata": {
        "id": "d74RRybyrr79",
        "colab": {
          "base_uri": "https://localhost:8080/"
        },
        "outputId": "5bf339d4-79b5-4fd6-9301-553ed778942a"
      },
      "execution_count": null,
      "outputs": [
        {
          "output_type": "stream",
          "name": "stdout",
          "text": [
            "85/85 [============================>.] - ETA: 0s"
          ]
        },
        {
          "output_type": "stream",
          "name": "stderr",
          "text": [
            "WARNING:tensorflow:Your input ran out of data; interrupting training. Make sure that your dataset or generator can generate at least `steps_per_epoch * epochs` batches (in this case, 85.3125 batches). You may need to use the repeat() function when building your dataset.\n"
          ]
        },
        {
          "output_type": "stream",
          "name": "stdout",
          "text": [
            "\b\b\b\b\b\b\b\b\b\b\b\b\b\b\b\b\b\b\b\b\b\b\b\b\b\b\b\b\b\b\b\b\b\b\b\b\b\b\b\b\b\b\b\b\b\b\b\b\r85/85 [==============================] - 27s 305ms/step\n"
          ]
        }
      ]
    },
    {
      "cell_type": "code",
      "source": [
        "# Asegurarse de que y_pred cubra todas las muestras\n",
        "if y_pred.shape[0] > y_true.shape[0]:\n",
        "    y_pred = y_pred[:y_true.shape[0]]\n",
        "elif y_pred.shape[0] < y_true.shape[0]:\n",
        "    y_true = y_true[:y_pred.shape[0]]\n"
      ],
      "metadata": {
        "id": "gMc3u9NOrulU"
      },
      "execution_count": null,
      "outputs": []
    },
    {
      "cell_type": "code",
      "source": [
        "# Convertir las predicciones de probabilidades a etiquetas de clase\n",
        "y_pred_classes = np.argmax(y_pred, axis=1)\n"
      ],
      "metadata": {
        "id": "WRbb_zvurx9t"
      },
      "execution_count": null,
      "outputs": []
    },
    {
      "cell_type": "code",
      "source": [
        "# Calcular la matriz de confusión\n",
        "cm = confusion_matrix(y_true, y_pred_classes)"
      ],
      "metadata": {
        "id": "Q5kEW-vmG8pO"
      },
      "execution_count": null,
      "outputs": []
    },
    {
      "cell_type": "code",
      "source": [
        "# Visualizar la matriz de confusión\n",
        "plt.figure(figsize=(10, 8))\n",
        "sns.heatmap(cm, annot=True, fmt='d', cmap='Blues', xticklabels=valid_it.class_indices.keys(), yticklabels=valid_it.class_indices.keys())\n",
        "plt.title('Confusion Matrix')\n",
        "plt.xlabel('InterceptionV3 Predicted Labels')\n",
        "plt.ylabel('True Labels')\n",
        "plt.show()"
      ],
      "metadata": {
        "colab": {
          "base_uri": "https://localhost:8080/",
          "height": 718
        },
        "id": "z10w-hZhG_EW",
        "outputId": "2b51e506-5d2f-4917-e3e4-1d62d0ae2a25"
      },
      "execution_count": null,
      "outputs": [
        {
          "output_type": "display_data",
          "data": {
            "text/plain": [
              "<Figure size 1000x800 with 2 Axes>"
            ],
            "image/png": "[encoded data removed]"
          },
          "metadata": {}
        }
      ]
    },
    {
      "cell_type": "code",
      "source": [
        "# Calcular e imprimir el informe de clasificación\n",
        "class_report = classification_report(y_true, y_pred_classes, target_names=valid_it.class_indices.keys())\n",
        "print(\"InterceptionV3 Classification Report:\")\n",
        "print(class_report)"
      ],
      "metadata": {
        "colab": {
          "base_uri": "https://localhost:8080/"
        },
        "id": "zTp2a2oCHBAs",
        "outputId": "758bced1-f49a-44b4-d2eb-6fec9fe219e4"
      },
      "execution_count": null,
      "outputs": [
        {
          "output_type": "stream",
          "name": "stdout",
          "text": [
            "Classification Report:\n",
            "               precision    recall  f1-score   support\n",
            "\n",
            "  freshapples       0.64      0.32      0.43       395\n",
            "  freshbanana       0.59      0.39      0.47       381\n",
            " freshoranges       0.81      0.31      0.45       388\n",
            " rottenapples       1.00      0.02      0.04       601\n",
            " rottenbanana       0.27      1.00      0.42       530\n",
            "rottenoranges       0.58      0.14      0.23       403\n",
            "\n",
            "     accuracy                           0.37      2698\n",
            "    macro avg       0.65      0.36      0.34      2698\n",
            " weighted avg       0.65      0.37      0.32      2698\n",
            "\n"
          ]
        }
      ]
    },
    {
      "cell_type": "code",
      "source": [
        "import pickle\n",
        "from google.colab import files\n",
        "\n",
        "# Guarda el modelo entrenado en un archivo .pkl\n",
        "with open('modelo_entrenado.pkl', 'wb') as f:\n",
        "    pickle.dump(model, f)\n",
        "\n",
        "# Descarga el archivo .pkl desde Google Colab\n",
        "files.download('modelo_entrenado.pkl')"
      ],
      "metadata": {
        "colab": {
          "base_uri": "https://localhost:8080/",
          "height": 34
        },
        "id": "sAGQG4V8HBz2",
        "outputId": "19028dae-bbe4-496b-848a-125f1e7bd5c8"
      },
      "execution_count": null,
      "outputs": [
        {
          "output_type": "display_data",
          "data": {
            "text/plain": [
              "<IPython.core.display.Javascript object>"
            ],
            "application/javascript": [
              "\n",
              "    async function download(id, filename, size) {\n",
              "      if (!google.colab.kernel.accessAllowed) {\n",
              "        return;\n",
              "      }\n",
              "      const div = document.createElement('div');\n",
              "      const label = document.createElement('label');\n",
              "      label.textContent = `Downloading \"${filename}\": `;\n",
              "      div.appendChild(label);\n",
              "      const progress = document.createElement('progress');\n",
              "      progress.max = size;\n",
              "      div.appendChild(progress);\n",
              "      document.body.appendChild(div);\n",
              "\n",
              "      const buffers = [];\n",
              "      let downloaded = 0;\n",
              "\n",
              "      const channel = await google.colab.kernel.comms.open(id);\n",
              "      // Send a message to notify the kernel that we're ready.\n",
              "      channel.send({})\n",
              "\n",
              "      for await (const message of channel.messages) {\n",
              "        // Send a message to notify the kernel that we're ready.\n",
              "        channel.send({})\n",
              "        if (message.buffers) {\n",
              "          for (const buffer of message.buffers) {\n",
              "            buffers.push(buffer);\n",
              "            downloaded += buffer.byteLength;\n",
              "            progress.value = downloaded;\n",
              "          }\n",
              "        }\n",
              "      }\n",
              "      const blob = new Blob(buffers, {type: 'application/binary'});\n",
              "      const a = document.createElement('a');\n",
              "      a.href = window.URL.createObjectURL(blob);\n",
              "      a.download = filename;\n",
              "      div.appendChild(a);\n",
              "      a.click();\n",
              "      div.remove();\n",
              "    }\n",
              "  "
            ]
          },
          "metadata": {}
        },
        {
          "output_type": "display_data",
          "data": {
            "text/plain": [
              "<IPython.core.display.Javascript object>"
            ],
            "application/javascript": [
              "download(\"download_1f0c6af2-18fe-48c9-b91a-9ccef0501242\", \"modelo_entrenado.pkl\", 88284941)"
            ]
          },
          "metadata": {}
        }
      ]
    }
  ]
}