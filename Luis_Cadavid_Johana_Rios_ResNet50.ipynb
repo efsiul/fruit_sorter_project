{
  "cells": [
    {
      "cell_type": "markdown",
      "metadata": {
        "id": "view-in-github",
        "colab_type": "text"
      },
      "source": [
        "<a href=\"https://colab.research.google.com/github/efsiul/fruit_sorter_project/blob/master/Luis_Cadavid_Johana_Rios_ResNet50.ipynb\" target=\"_parent\"><img src=\"https://colab.research.google.com/assets/colab-badge.svg\" alt=\"Open In Colab\"/></a>"
      ]
    },
    {
      "cell_type": "code",
      "execution_count": 2,
      "metadata": {
        "colab": {
          "base_uri": "https://localhost:8080/"
        },
        "id": "PGhyPesThj4a",
        "outputId": "518f64fd-07fe-4ff9-dc1f-59a64b4847f0"
      },
      "outputs": [
        {
          "output_type": "stream",
          "name": "stdout",
          "text": [
            "Requirement already satisfied: tensorflow in /usr/local/lib/python3.10/dist-packages (2.15.0)\n",
            "Requirement already satisfied: absl-py>=1.0.0 in /usr/local/lib/python3.10/dist-packages (from tensorflow) (1.4.0)\n",
            "Requirement already satisfied: astunparse>=1.6.0 in /usr/local/lib/python3.10/dist-packages (from tensorflow) (1.6.3)\n",
            "Requirement already satisfied: flatbuffers>=23.5.26 in /usr/local/lib/python3.10/dist-packages (from tensorflow) (24.3.25)\n",
            "Requirement already satisfied: gast!=0.5.0,!=0.5.1,!=0.5.2,>=0.2.1 in /usr/local/lib/python3.10/dist-packages (from tensorflow) (0.5.4)\n",
            "Requirement already satisfied: google-pasta>=0.1.1 in /usr/local/lib/python3.10/dist-packages (from tensorflow) (0.2.0)\n",
            "Requirement already satisfied: h5py>=2.9.0 in /usr/local/lib/python3.10/dist-packages (from tensorflow) (3.11.0)\n",
            "Requirement already satisfied: libclang>=13.0.0 in /usr/local/lib/python3.10/dist-packages (from tensorflow) (18.1.1)\n",
            "Requirement already satisfied: ml-dtypes~=0.2.0 in /usr/local/lib/python3.10/dist-packages (from tensorflow) (0.2.0)\n",
            "Requirement already satisfied: numpy<2.0.0,>=1.23.5 in /usr/local/lib/python3.10/dist-packages (from tensorflow) (1.25.2)\n",
            "Requirement already satisfied: opt-einsum>=2.3.2 in /usr/local/lib/python3.10/dist-packages (from tensorflow) (3.3.0)\n",
            "Requirement already satisfied: packaging in /usr/local/lib/python3.10/dist-packages (from tensorflow) (24.0)\n",
            "Requirement already satisfied: protobuf!=4.21.0,!=4.21.1,!=4.21.2,!=4.21.3,!=4.21.4,!=4.21.5,<5.0.0dev,>=3.20.3 in /usr/local/lib/python3.10/dist-packages (from tensorflow) (3.20.3)\n",
            "Requirement already satisfied: setuptools in /usr/local/lib/python3.10/dist-packages (from tensorflow) (67.7.2)\n",
            "Requirement already satisfied: six>=1.12.0 in /usr/local/lib/python3.10/dist-packages (from tensorflow) (1.16.0)\n",
            "Requirement already satisfied: termcolor>=1.1.0 in /usr/local/lib/python3.10/dist-packages (from tensorflow) (2.4.0)\n",
            "Requirement already satisfied: typing-extensions>=3.6.6 in /usr/local/lib/python3.10/dist-packages (from tensorflow) (4.11.0)\n",
            "Requirement already satisfied: wrapt<1.15,>=1.11.0 in /usr/local/lib/python3.10/dist-packages (from tensorflow) (1.14.1)\n",
            "Requirement already satisfied: tensorflow-io-gcs-filesystem>=0.23.1 in /usr/local/lib/python3.10/dist-packages (from tensorflow) (0.37.0)\n",
            "Requirement already satisfied: grpcio<2.0,>=1.24.3 in /usr/local/lib/python3.10/dist-packages (from tensorflow) (1.64.0)\n",
            "Requirement already satisfied: tensorboard<2.16,>=2.15 in /usr/local/lib/python3.10/dist-packages (from tensorflow) (2.15.2)\n",
            "Requirement already satisfied: tensorflow-estimator<2.16,>=2.15.0 in /usr/local/lib/python3.10/dist-packages (from tensorflow) (2.15.0)\n",
            "Requirement already satisfied: keras<2.16,>=2.15.0 in /usr/local/lib/python3.10/dist-packages (from tensorflow) (2.15.0)\n",
            "Requirement already satisfied: wheel<1.0,>=0.23.0 in /usr/local/lib/python3.10/dist-packages (from astunparse>=1.6.0->tensorflow) (0.43.0)\n",
            "Requirement already satisfied: google-auth<3,>=1.6.3 in /usr/local/lib/python3.10/dist-packages (from tensorboard<2.16,>=2.15->tensorflow) (2.27.0)\n",
            "Requirement already satisfied: google-auth-oauthlib<2,>=0.5 in /usr/local/lib/python3.10/dist-packages (from tensorboard<2.16,>=2.15->tensorflow) (1.2.0)\n",
            "Requirement already satisfied: markdown>=2.6.8 in /usr/local/lib/python3.10/dist-packages (from tensorboard<2.16,>=2.15->tensorflow) (3.6)\n",
            "Requirement already satisfied: requests<3,>=2.21.0 in /usr/local/lib/python3.10/dist-packages (from tensorboard<2.16,>=2.15->tensorflow) (2.31.0)\n",
            "Requirement already satisfied: tensorboard-data-server<0.8.0,>=0.7.0 in /usr/local/lib/python3.10/dist-packages (from tensorboard<2.16,>=2.15->tensorflow) (0.7.2)\n",
            "Requirement already satisfied: werkzeug>=1.0.1 in /usr/local/lib/python3.10/dist-packages (from tensorboard<2.16,>=2.15->tensorflow) (3.0.3)\n",
            "Requirement already satisfied: cachetools<6.0,>=2.0.0 in /usr/local/lib/python3.10/dist-packages (from google-auth<3,>=1.6.3->tensorboard<2.16,>=2.15->tensorflow) (5.3.3)\n",
            "Requirement already satisfied: pyasn1-modules>=0.2.1 in /usr/local/lib/python3.10/dist-packages (from google-auth<3,>=1.6.3->tensorboard<2.16,>=2.15->tensorflow) (0.4.0)\n",
            "Requirement already satisfied: rsa<5,>=3.1.4 in /usr/local/lib/python3.10/dist-packages (from google-auth<3,>=1.6.3->tensorboard<2.16,>=2.15->tensorflow) (4.9)\n",
            "Requirement already satisfied: requests-oauthlib>=0.7.0 in /usr/local/lib/python3.10/dist-packages (from google-auth-oauthlib<2,>=0.5->tensorboard<2.16,>=2.15->tensorflow) (2.0.0)\n",
            "Requirement already satisfied: charset-normalizer<4,>=2 in /usr/local/lib/python3.10/dist-packages (from requests<3,>=2.21.0->tensorboard<2.16,>=2.15->tensorflow) (3.3.2)\n",
            "Requirement already satisfied: idna<4,>=2.5 in /usr/local/lib/python3.10/dist-packages (from requests<3,>=2.21.0->tensorboard<2.16,>=2.15->tensorflow) (3.7)\n",
            "Requirement already satisfied: urllib3<3,>=1.21.1 in /usr/local/lib/python3.10/dist-packages (from requests<3,>=2.21.0->tensorboard<2.16,>=2.15->tensorflow) (2.0.7)\n",
            "Requirement already satisfied: certifi>=2017.4.17 in /usr/local/lib/python3.10/dist-packages (from requests<3,>=2.21.0->tensorboard<2.16,>=2.15->tensorflow) (2024.2.2)\n",
            "Requirement already satisfied: MarkupSafe>=2.1.1 in /usr/local/lib/python3.10/dist-packages (from werkzeug>=1.0.1->tensorboard<2.16,>=2.15->tensorflow) (2.1.5)\n",
            "Requirement already satisfied: pyasn1<0.7.0,>=0.4.6 in /usr/local/lib/python3.10/dist-packages (from pyasn1-modules>=0.2.1->google-auth<3,>=1.6.3->tensorboard<2.16,>=2.15->tensorflow) (0.6.0)\n",
            "Requirement already satisfied: oauthlib>=3.0.0 in /usr/local/lib/python3.10/dist-packages (from requests-oauthlib>=0.7.0->google-auth-oauthlib<2,>=0.5->tensorboard<2.16,>=2.15->tensorflow) (3.2.2)\n"
          ]
        }
      ],
      "source": [
        "%pip install tensorflow"
      ]
    },
    {
      "cell_type": "code",
      "execution_count": 3,
      "metadata": {
        "id": "uvI8fElQhq9E"
      },
      "outputs": [],
      "source": [
        "import tensorflow as tf\n",
        "from tensorflow.keras.applications import ResNet50\n",
        "from tensorflow.keras import layers, models, Input\n",
        "from tensorflow.keras.preprocessing.image import ImageDataGenerator\n",
        "import matplotlib.pyplot as plt\n",
        "import seaborn as sns\n",
        "from sklearn.metrics import confusion_matrix, classification_report\n",
        "import numpy as np"
      ]
    },
    {
      "cell_type": "code",
      "execution_count": null,
      "metadata": {
        "id": "eMAJ_2trh4Jq"
      },
      "outputs": [],
      "source": [
        "# Cargar el modelo base de ResNet50\n",
        "base_model = ResNet50(weights='imagenet', include_top=False, input_shape=(224, 224, 3))\n",
        "base_model.trainable = False\n"
      ]
    },
    {
      "cell_type": "code",
      "execution_count": null,
      "metadata": {
        "id": "-RdZFbXch8XY"
      },
      "outputs": [],
      "source": [
        "# Crear entradas con la forma correcta\n",
        "inputs = Input(shape=(224, 224, 3))\n",
        "\n",
        "# Pasar las entradas a través del modelo base\n",
        "x = base_model(inputs, training=False)\n",
        "\n",
        "# Añadir una capa de pooling global\n",
        "x = layers.GlobalAveragePooling2D()(x)\n",
        "\n",
        "# Añadir la capa densa final\n",
        "outputs = layers.Dense(6, activation='softmax')(x)\n"
      ]
    },
    {
      "cell_type": "code",
      "execution_count": null,
      "metadata": {
        "colab": {
          "base_uri": "https://localhost:8080/"
        },
        "id": "KRGRokDZiHbF",
        "outputId": "90cb3cb9-78fb-4048-e7b6-3d4a504621f0"
      },
      "outputs": [
        {
          "output_type": "stream",
          "name": "stdout",
          "text": [
            "Model: \"model_4\"\n",
            "_________________________________________________________________\n",
            " Layer (type)                Output Shape              Param #   \n",
            "=================================================================\n",
            " input_8 (InputLayer)        [(None, 224, 224, 3)]     0         \n",
            "                                                                 \n",
            " resnet50 (Functional)       (None, 7, 7, 2048)        23587712  \n",
            "                                                                 \n",
            " global_average_pooling2d_3  (None, 2048)              0         \n",
            "  (GlobalAveragePooling2D)                                       \n",
            "                                                                 \n",
            " dense_3 (Dense)             (None, 6)                 12294     \n",
            "                                                                 \n",
            "=================================================================\n",
            "Total params: 23600006 (90.03 MB)\n",
            "Trainable params: 12294 (48.02 KB)\n",
            "Non-trainable params: 23587712 (89.98 MB)\n",
            "_________________________________________________________________\n"
          ]
        }
      ],
      "source": [
        "# Combinar entradas y salidas para crear el modelo\n",
        "model = models.Model(inputs, outputs)\n",
        "\n",
        "# Mostrar el resumen del modelo\n",
        "model.summary()\n"
      ]
    },
    {
      "cell_type": "code",
      "execution_count": null,
      "metadata": {
        "id": "Xwim6j_niMXL"
      },
      "outputs": [],
      "source": [
        "# Compilar el modelo\n",
        "model.compile(loss='categorical_crossentropy', metrics=['categorical_accuracy'])"
      ]
    },
    {
      "cell_type": "code",
      "execution_count": null,
      "metadata": {
        "id": "1_sWJZjNiQz7"
      },
      "outputs": [],
      "source": [
        "# Configurar los generadores de datos\n",
        "datagen_train = ImageDataGenerator(samplewise_center=True,  # normalizar\n",
        "    rotation_range=10,  # rotar aleatoriamente\n",
        "    zoom_range=0.1,  # hacer zoom aleatoriamente\n",
        "    width_shift_range=0.1,  # desplazar horizontalmente\n",
        "    height_shift_range=0.1,  # desplazar verticalmente\n",
        "    horizontal_flip=True,  # voltear horizontalmente\n",
        "    vertical_flip=True)  # voltear verticalmente\n",
        "\n",
        "datagen_valid = ImageDataGenerator(samplewise_center=True)"
      ]
    },
    {
      "cell_type": "code",
      "execution_count": null,
      "metadata": {
        "colab": {
          "base_uri": "https://localhost:8080/"
        },
        "id": "IrPFmgwTic1y",
        "outputId": "c07026b5-694a-4b9d-a99c-cd8b3b6e663f"
      },
      "outputs": [
        {
          "output_type": "stream",
          "name": "stdout",
          "text": [
            "Drive already mounted at /content/drive; to attempt to forcibly remount, call drive.mount(\"/content/drive\", force_remount=True).\n"
          ]
        }
      ],
      "source": [
        "from google.colab import drive\n",
        "drive.mount('/content/drive')"
      ]
    },
    {
      "cell_type": "code",
      "execution_count": null,
      "metadata": {
        "colab": {
          "base_uri": "https://localhost:8080/"
        },
        "id": "cEe_JPL-ilgE",
        "outputId": "a2da4cb2-76b7-4c6d-8f1a-e246754863cd"
      },
      "outputs": [
        {
          "output_type": "stream",
          "name": "stdout",
          "text": [
            "Found 9833 images belonging to 6 classes.\n",
            "Found 2698 images belonging to 6 classes.\n"
          ]
        }
      ],
      "source": [
        "# Cargar y iterar sobre el conjunto de datos de entrenamiento\n",
        "train_it = datagen_train.flow_from_directory(\n",
        "    '/content/drive/MyDrive/Udea/Simulación/train',\n",
        "    target_size=(224, 224),\n",
        "    color_mode=\"rgb\",\n",
        "    class_mode=\"categorical\",\n",
        ")\n",
        "\n",
        "# Cargar y iterar sobre el conjunto de datos de validación\n",
        "valid_it = datagen_valid.flow_from_directory(\n",
        "    '/content/drive/MyDrive/Udea/Simulación/test',\n",
        "    target_size=(224, 224),\n",
        "    color_mode=\"rgb\",\n",
        "    class_mode=\"categorical\",\n",
        "    shuffle=False  # Asegurar que el orden de las imágenes sea el mismo para predicciones y etiquetas\n",
        ")"
      ]
    },
    {
      "cell_type": "code",
      "execution_count": null,
      "metadata": {
        "colab": {
          "base_uri": "https://localhost:8080/"
        },
        "id": "BM6wVbUwiscC",
        "outputId": "f6a1aadb-0261-4c13-f4c4-07139b35091d"
      },
      "outputs": [
        {
          "output_type": "stream",
          "name": "stdout",
          "text": [
            "Epoch 1/20\n",
            "307/307 [==============================] - 287s 925ms/step - loss: 0.2608 - categorical_accuracy: 0.9126 - val_loss: 0.0797 - val_categorical_accuracy: 0.9741\n",
            "Epoch 2/20\n",
            "307/307 [==============================] - 275s 894ms/step - loss: 0.0766 - categorical_accuracy: 0.9749 - val_loss: 0.0566 - val_categorical_accuracy: 0.9833\n",
            "Epoch 3/20\n",
            "307/307 [==============================] - 274s 890ms/step - loss: 0.0501 - categorical_accuracy: 0.9837 - val_loss: 0.0429 - val_categorical_accuracy: 0.9870\n",
            "Epoch 4/20\n",
            "307/307 [==============================] - 273s 889ms/step - loss: 0.0390 - categorical_accuracy: 0.9871 - val_loss: 0.0356 - val_categorical_accuracy: 0.9826\n",
            "Epoch 5/20\n",
            "307/307 [==============================] - 273s 889ms/step - loss: 0.0316 - categorical_accuracy: 0.9895 - val_loss: 0.0329 - val_categorical_accuracy: 0.9907\n",
            "Epoch 6/20\n",
            "307/307 [==============================] - 276s 896ms/step - loss: 0.0270 - categorical_accuracy: 0.9914 - val_loss: 0.0230 - val_categorical_accuracy: 0.9937\n",
            "Epoch 7/20\n",
            "307/307 [==============================] - 276s 896ms/step - loss: 0.0227 - categorical_accuracy: 0.9927 - val_loss: 0.0201 - val_categorical_accuracy: 0.9930\n",
            "Epoch 8/20\n",
            "307/307 [==============================] - 274s 893ms/step - loss: 0.0196 - categorical_accuracy: 0.9942 - val_loss: 0.0218 - val_categorical_accuracy: 0.9933\n",
            "Epoch 9/20\n",
            "307/307 [==============================] - 273s 888ms/step - loss: 0.0194 - categorical_accuracy: 0.9929 - val_loss: 0.0231 - val_categorical_accuracy: 0.9941\n",
            "Epoch 10/20\n",
            "307/307 [==============================] - 273s 888ms/step - loss: 0.0158 - categorical_accuracy: 0.9952 - val_loss: 0.0205 - val_categorical_accuracy: 0.9933\n",
            "Epoch 11/20\n",
            "307/307 [==============================] - 273s 889ms/step - loss: 0.0163 - categorical_accuracy: 0.9948 - val_loss: 0.0504 - val_categorical_accuracy: 0.9826\n",
            "Epoch 12/20\n",
            "307/307 [==============================] - 274s 892ms/step - loss: 0.0157 - categorical_accuracy: 0.9944 - val_loss: 0.0166 - val_categorical_accuracy: 0.9952\n",
            "Epoch 13/20\n",
            "307/307 [==============================] - 272s 886ms/step - loss: 0.0158 - categorical_accuracy: 0.9947 - val_loss: 0.0154 - val_categorical_accuracy: 0.9948\n",
            "Epoch 14/20\n",
            "307/307 [==============================] - 272s 886ms/step - loss: 0.0148 - categorical_accuracy: 0.9946 - val_loss: 0.0201 - val_categorical_accuracy: 0.9948\n",
            "Epoch 15/20\n",
            "307/307 [==============================] - 274s 891ms/step - loss: 0.0121 - categorical_accuracy: 0.9965 - val_loss: 0.0321 - val_categorical_accuracy: 0.9893\n",
            "Epoch 16/20\n",
            "307/307 [==============================] - 274s 891ms/step - loss: 0.0121 - categorical_accuracy: 0.9959 - val_loss: 0.0223 - val_categorical_accuracy: 0.9911\n",
            "Epoch 17/20\n",
            "307/307 [==============================] - 271s 881ms/step - loss: 0.0142 - categorical_accuracy: 0.9948 - val_loss: 0.0119 - val_categorical_accuracy: 0.9963\n",
            "Epoch 18/20\n",
            "307/307 [==============================] - 273s 888ms/step - loss: 0.0104 - categorical_accuracy: 0.9965 - val_loss: 0.0197 - val_categorical_accuracy: 0.9941\n",
            "Epoch 19/20\n",
            "307/307 [==============================] - 274s 890ms/step - loss: 0.0098 - categorical_accuracy: 0.9971 - val_loss: 0.0179 - val_categorical_accuracy: 0.9956\n",
            "Epoch 20/20\n",
            "307/307 [==============================] - 274s 890ms/step - loss: 0.0110 - categorical_accuracy: 0.9961 - val_loss: 0.0196 - val_categorical_accuracy: 0.9926\n"
          ]
        },
        {
          "output_type": "execute_result",
          "data": {
            "text/plain": [
              "<keras.src.callbacks.History at 0x7811446e1d20>"
            ]
          },
          "metadata": {},
          "execution_count": 35
        }
      ],
      "source": [
        "# Entrenar el modelo\n",
        "model.fit(train_it,\n",
        "          validation_data=valid_it,\n",
        "          steps_per_epoch=train_it.samples /train_it.batch_size,\n",
        "          validation_steps=valid_it.samples /valid_it.batch_size,\n",
        "          epochs=20)"
      ]
    },
    {
      "cell_type": "code",
      "execution_count": null,
      "metadata": {
        "id": "p7lNclbFivxL",
        "colab": {
          "base_uri": "https://localhost:8080/"
        },
        "outputId": "62518340-85c1-4200-b0bc-4f6aab80daa9"
      },
      "outputs": [
        {
          "output_type": "stream",
          "name": "stdout",
          "text": [
            "84/84 [==============================] - 47s 556ms/step - loss: 0.0196 - categorical_accuracy: 0.9926\n"
          ]
        },
        {
          "output_type": "execute_result",
          "data": {
            "text/plain": [
              "[0.01956038549542427, 0.9925870895385742]"
            ]
          },
          "metadata": {},
          "execution_count": 36
        }
      ],
      "source": [
        "# Evaluar el modelo\n",
        "model.evaluate(valid_it, steps=valid_it.samples /valid_it.batch_size)"
      ]
    },
    {
      "cell_type": "code",
      "execution_count": null,
      "metadata": {
        "id": "ZsOzT_jZizXD",
        "colab": {
          "base_uri": "https://localhost:8080/"
        },
        "outputId": "25dc23fe-10d7-4562-b5aa-406c06a953a2"
      },
      "outputs": [
        {
          "output_type": "stream",
          "name": "stdout",
          "text": [
            "85/85 [============================>.] - ETA: 0s"
          ]
        },
        {
          "output_type": "stream",
          "name": "stderr",
          "text": [
            "WARNING:tensorflow:Your input ran out of data; interrupting training. Make sure that your dataset or generator can generate at least `steps_per_epoch * epochs` batches (in this case, 85.3125 batches). You may need to use the repeat() function when building your dataset.\n"
          ]
        },
        {
          "output_type": "stream",
          "name": "stdout",
          "text": [
            "\b\b\b\b\b\b\b\b\b\b\b\b\b\b\b\b\b\b\b\b\b\b\b\b\b\b\b\b\b\b\b\b\b\b\b\b\b\b\b\b\b\b\b\b\b\b\b\b\r85/85 [==============================] - 48s 549ms/step\n"
          ]
        }
      ],
      "source": [
        "# Generar predicciones\n",
        "valid_it.reset()  # Reiniciar el generador antes de predecir\n",
        "y_pred = model.predict(valid_it, steps=valid_it.samples /valid_it.batch_size + 1, verbose=1)\n",
        "y_true = valid_it.classes"
      ]
    },
    {
      "cell_type": "code",
      "execution_count": null,
      "metadata": {
        "id": "Sl2ZM5_9i1Qc"
      },
      "outputs": [],
      "source": [
        "# Asegurarse de que y_pred cubra todas las muestras\n",
        "if y_pred.shape[0] > y_true.shape[0]:\n",
        "    y_pred = y_pred[:y_true.shape[0]]\n",
        "elif y_pred.shape[0] < y_true.shape[0]:\n",
        "    y_true = y_true[:y_pred.shape[0]]"
      ]
    },
    {
      "cell_type": "code",
      "execution_count": null,
      "metadata": {
        "id": "avisIhxvi-Sk"
      },
      "outputs": [],
      "source": [
        "# Convertir las predicciones de probabilidades a etiquetas de clase\n",
        "y_pred_classes = np.argmax(y_pred, axis=1)\n",
        "\n",
        "# Calcular la matriz de confusión\n",
        "cm = confusion_matrix(y_true, y_pred_classes)"
      ]
    },
    {
      "cell_type": "code",
      "execution_count": null,
      "metadata": {
        "id": "KQlrQSTmjEz6",
        "colab": {
          "base_uri": "https://localhost:8080/",
          "height": 718
        },
        "outputId": "fa99b80e-a27b-479f-c9a6-6fe12c5a7742"
      },
      "outputs": [
        {
          "output_type": "display_data",
          "data": {
            "text/plain": [
              "<Figure size 1000x800 with 2 Axes>"
            ],
            "image/png": "[encoded data removed]"
          },
          "metadata": {}
        }
      ],
      "source": [
        "# Visualizar la matriz de confusión\n",
        "plt.figure(figsize=(10, 8))\n",
        "sns.heatmap(cm, annot=True, fmt='d', cmap='Blues', xticklabels=valid_it.class_indices.keys(), yticklabels=valid_it.class_indices.keys())\n",
        "plt.title('ResNet50 Confusion Matrix')\n",
        "plt.xlabel('Predicted Labels')\n",
        "plt.ylabel('True Labels')\n",
        "plt.show()"
      ]
    },
    {
      "cell_type": "code",
      "execution_count": null,
      "metadata": {
        "id": "ahm6F2Z3jI68",
        "colab": {
          "base_uri": "https://localhost:8080/"
        },
        "outputId": "8aec074f-b96d-4030-998f-dafc9da29839"
      },
      "outputs": [
        {
          "output_type": "stream",
          "name": "stdout",
          "text": [
            "Classification Report:\n",
            "               precision    recall  f1-score   support\n",
            "\n",
            "  freshapples       0.98      0.99      0.99       395\n",
            "  freshbanana       1.00      1.00      1.00       381\n",
            " freshoranges       0.99      0.99      0.99       388\n",
            " rottenapples       0.99      0.99      0.99       601\n",
            " rottenbanana       1.00      1.00      1.00       530\n",
            "rottenoranges       0.99      0.98      0.99       403\n",
            "\n",
            "     accuracy                           0.99      2698\n",
            "    macro avg       0.99      0.99      0.99      2698\n",
            " weighted avg       0.99      0.99      0.99      2698\n",
            "\n"
          ]
        }
      ],
      "source": [
        "# Calcular e imprimir el informe de clasificación\n",
        "class_report = classification_report(y_true, y_pred_classes, target_names=valid_it.class_indices.keys())\n",
        "print(\"ResNet50 Classification Report:\")\n",
        "print(class_report)"
      ]
    },
    {
      "cell_type": "code",
      "source": [
        "import pickle\n",
        "from google.colab import files\n",
        "\n",
        "# Guarda el modelo entrenado en un archivo .pkl\n",
        "with open('modelo_entrenado.pkl', 'wb') as f:\n",
        "    pickle.dump(model, f)\n",
        "\n",
        "# Descarga el archivo .pkl desde Google Colab\n",
        "files.download('modelo_entrenado.pkl')"
      ],
      "metadata": {
        "colab": {
          "base_uri": "https://localhost:8080/",
          "height": 34
        },
        "id": "RkJf8J4dVkn8",
        "outputId": "b0aa2dad-f95a-4b28-f23f-47e684b6b674"
      },
      "execution_count": null,
      "outputs": [
        {
          "output_type": "display_data",
          "data": {
            "text/plain": [
              "<IPython.core.display.Javascript object>"
            ],
            "application/javascript": [
              "\n",
              "    async function download(id, filename, size) {\n",
              "      if (!google.colab.kernel.accessAllowed) {\n",
              "        return;\n",
              "      }\n",
              "      const div = document.createElement('div');\n",
              "      const label = document.createElement('label');\n",
              "      label.textContent = `Downloading \"${filename}\": `;\n",
              "      div.appendChild(label);\n",
              "      const progress = document.createElement('progress');\n",
              "      progress.max = size;\n",
              "      div.appendChild(progress);\n",
              "      document.body.appendChild(div);\n",
              "\n",
              "      const buffers = [];\n",
              "      let downloaded = 0;\n",
              "\n",
              "      const channel = await google.colab.kernel.comms.open(id);\n",
              "      // Send a message to notify the kernel that we're ready.\n",
              "      channel.send({})\n",
              "\n",
              "      for await (const message of channel.messages) {\n",
              "        // Send a message to notify the kernel that we're ready.\n",
              "        channel.send({})\n",
              "        if (message.buffers) {\n",
              "          for (const buffer of message.buffers) {\n",
              "            buffers.push(buffer);\n",
              "            downloaded += buffer.byteLength;\n",
              "            progress.value = downloaded;\n",
              "          }\n",
              "        }\n",
              "      }\n",
              "      const blob = new Blob(buffers, {type: 'application/binary'});\n",
              "      const a = document.createElement('a');\n",
              "      a.href = window.URL.createObjectURL(blob);\n",
              "      a.download = filename;\n",
              "      div.appendChild(a);\n",
              "      a.click();\n",
              "      div.remove();\n",
              "    }\n",
              "  "
            ]
          },
          "metadata": {}
        },
        {
          "output_type": "display_data",
          "data": {
            "text/plain": [
              "<IPython.core.display.Javascript object>"
            ],
            "application/javascript": [
              "download(\"download_b3fd332b-cb81-4f6f-a6a9-7481526c6597\", \"modelo_entrenado.pkl\", 95037497)"
            ]
          },
          "metadata": {}
        }
      ]
    },
    {
      "cell_type": "code",
      "source": [
        "%pip freeze"
      ],
      "metadata": {
        "colab": {
          "base_uri": "https://localhost:8080/"
        },
        "id": "WtpwoyRNjNb6",
        "outputId": "1614a189-7e39-4f88-87ed-b4950a9280f0"
      },
      "execution_count": 8,
      "outputs": [
        {
          "output_type": "stream",
          "name": "stdout",
          "text": [
            "absl-py==1.4.0\n",
            "altair==4.2.2\n",
            "annotated-types==0.7.0\n",
            "anyio==3.7.1\n",
            "argon2-cffi==23.1.0\n",
            "argon2-cffi-bindings==21.2.0\n",
            "array_record==0.5.1\n",
            "astunparse==1.6.3\n",
            "attrs==23.2.0\n",
            "audioread==3.0.1\n",
            "backcall==0.2.0\n",
            "beautifulsoup4==4.12.3\n",
            "bleach==6.1.0\n",
            "blinker==1.4\n",
            "blis==0.7.11\n",
            "build==1.2.1\n",
            "cachetools==5.3.3\n",
            "catalogue==2.0.10\n",
            "certifi==2024.2.2\n",
            "cffi==1.16.0\n",
            "charset-normalizer==3.3.2\n",
            "chex==0.1.86\n",
            "click==8.1.7\n",
            "cloud-tpu-client==0.10\n",
            "cloudpathlib==0.16.0\n",
            "cloudpickle==3.0.0\n",
            "confection==0.1.4\n",
            "contourpy==1.2.1\n",
            "cryptography==3.4.8\n",
            "cycler==0.12.1\n",
            "cymem==2.0.8\n",
            "dbus-python==1.2.18\n",
            "debugpy==1.6.6\n",
            "decorator==5.1.1\n",
            "defusedxml==0.7.1\n",
            "distrax==0.1.5\n",
            "distro==1.7.0\n",
            "dm-tree==0.1.8\n",
            "dopamine_rl==4.0.9\n",
            "en-core-web-sm @ https://github.com/explosion/spacy-models/releases/download/en_core_web_sm-3.7.1/en_core_web_sm-3.7.1-py3-none-any.whl#sha256=86cc141f63942d4b2c5fcee06630fd6f904788d2f0ab005cce45aadb8fb73889\n",
            "entrypoints==0.4\n",
            "etils==1.7.0\n",
            "exceptiongroup==1.2.1\n",
            "fastai==2.7.15\n",
            "fastcore==1.5.38\n",
            "fastdownload==0.0.7\n",
            "fastjsonschema==2.19.1\n",
            "fastprogress==1.0.3\n",
            "filelock==3.14.0\n",
            "flatbuffers==24.3.25\n",
            "flax==0.8.3\n",
            "fonttools==4.51.0\n",
            "fsspec==2024.5.0\n",
            "funcsigs==1.0.2\n",
            "gast==0.5.4\n",
            "GDAL==3.6.4\n",
            "gdown==5.1.0\n",
            "gensim==4.3.2\n",
            "gin-config==0.5.0\n",
            "google==2.0.3\n",
            "google-api-core==1.34.1\n",
            "google-api-python-client==1.8.0\n",
            "google-auth==2.27.0\n",
            "google-auth-httplib2==0.2.0\n",
            "google-auth-oauthlib==1.2.0\n",
            "google-cloud-core==2.4.1\n",
            "google-cloud-storage==2.8.0\n",
            "google-colab @ file:///colabtools/dist/google-colab-1.0.0.tar.gz#sha256=bf6dd7e8a44d5784317067dc1772782df249a08f607bb0ecebafc648f20b1bf6\n",
            "google-crc32c==1.5.0\n",
            "google-pasta==0.2.0\n",
            "google-resumable-media==2.7.0\n",
            "googleapis-common-protos==1.63.0\n",
            "grpcio==1.64.0\n",
            "gspread==6.0.2\n",
            "gspread-dataframe==3.3.1\n",
            "gym==0.25.2\n",
            "gym-notices==0.0.8\n",
            "h5py==3.11.0\n",
            "httplib2==0.22.0\n",
            "huggingface-hub==0.23.1\n",
            "idna==3.7\n",
            "imageio==2.34.1\n",
            "importlib-metadata==4.6.4\n",
            "importlib_resources==6.4.0\n",
            "iniconfig==2.0.0\n",
            "ipykernel==5.5.6\n",
            "ipython==7.34.0\n",
            "ipython-genutils==0.2.0\n",
            "ipywidgets==7.7.1\n",
            "jax==0.4.26\n",
            "jaxlib==0.4.26\n",
            "jeepney==0.7.1\n",
            "Jinja2==3.1.4\n",
            "joblib==1.4.2\n",
            "jsonschema==4.22.0\n",
            "jsonschema-specifications==2023.12.1\n",
            "jupyter-client==6.1.12\n",
            "jupyter-console==6.1.0\n",
            "jupyter-server==1.24.0\n",
            "jupyter_core==5.7.2\n",
            "jupyterlab_pygments==0.3.0\n",
            "jupyterlab_widgets==3.0.10\n",
            "kaggle==1.6.14\n",
            "kagglehub==0.2.5\n",
            "keras==2.15.0\n",
            "keyring==23.5.0\n",
            "kiwisolver==1.4.5\n",
            "langcodes==3.4.0\n",
            "language_data==1.2.0\n",
            "launchpadlib==1.10.16\n",
            "lazr.restfulclient==0.14.4\n",
            "lazr.uri==1.0.6\n",
            "lazy_loader==0.4\n",
            "libclang==18.1.1\n",
            "librosa==0.10.2.post1\n",
            "libtpu-nightly==0.1.dev20240403+default\n",
            "llvmlite==0.42.0\n",
            "marisa-trie==1.1.1\n",
            "Markdown==3.6\n",
            "markdown-it-py==3.0.0\n",
            "MarkupSafe==2.1.5\n",
            "matplotlib==3.7.1\n",
            "matplotlib-inline==0.1.7\n",
            "mdurl==0.1.2\n",
            "mistune==3.0.2\n",
            "ml-dtypes==0.2.0\n",
            "more-itertools==8.10.0\n",
            "mpmath==1.3.0\n",
            "msgpack==1.0.8\n",
            "murmurhash==1.0.10\n",
            "nbclassic==1.0.0\n",
            "nbclient==0.10.0\n",
            "nbconvert==7.16.4\n",
            "nbformat==5.10.4\n",
            "nest-asyncio==1.6.0\n",
            "networkx==3.3\n",
            "nltk==3.8.1\n",
            "notebook==6.5.5\n",
            "notebook_shim==0.2.4\n",
            "numba==0.59.1\n",
            "numpy==1.25.2\n",
            "oauth2client==4.1.3\n",
            "oauthlib==3.2.2\n",
            "opencv-python==4.9.0.80\n",
            "opt-einsum==3.3.0\n",
            "optax==0.1.9\n",
            "orbax-checkpoint==0.4.4\n",
            "packaging==24.0\n",
            "pandas==2.0.3\n",
            "pandas-stubs==2.0.3.230814\n",
            "pandocfilters==1.5.1\n",
            "parso==0.8.4\n",
            "pexpect==4.9.0\n",
            "pickleshare==0.7.5\n",
            "pillow==10.3.0\n",
            "pip-tools==6.13.0\n",
            "platformdirs==4.2.2\n",
            "plotly==5.15.0\n",
            "pluggy==1.5.0\n",
            "pooch==1.8.1\n",
            "portpicker==1.5.2\n",
            "preshed==3.0.9\n",
            "prometheus_client==0.20.0\n",
            "promise==2.3\n",
            "prompt-toolkit==3.0.43\n",
            "protobuf==3.20.3\n",
            "psutil==5.9.5\n",
            "ptyprocess==0.7.0\n",
            "pyasn1==0.6.0\n",
            "pyasn1_modules==0.4.0\n",
            "pycparser==2.22\n",
            "pydantic==2.7.1\n",
            "pydantic_core==2.18.2\n",
            "pygame==2.5.2\n",
            "Pygments==2.18.0\n",
            "PyGObject==3.42.1\n",
            "PyJWT==2.3.0\n",
            "pyparsing==3.1.2\n",
            "pyproject_hooks==1.1.0\n",
            "PySocks==1.7.1\n",
            "pytest==7.4.4\n",
            "python-apt==2.4.0+ubuntu3\n",
            "python-dateutil==2.9.0.post0\n",
            "python-slugify==8.0.4\n",
            "pytz==2024.1\n",
            "PyWavelets==1.6.0\n",
            "PyYAML==6.0.1\n",
            "pyzmq==24.0.1\n",
            "referencing==0.35.1\n",
            "regex==2024.5.15\n",
            "requests==2.31.0\n",
            "requests-oauthlib==2.0.0\n",
            "requirements-parser==0.9.0\n",
            "rich==13.7.1\n",
            "rpds-py==0.18.1\n",
            "rpy2==3.4.2\n",
            "rsa==4.9\n",
            "safetensors==0.4.3\n",
            "scikit-image==0.19.3\n",
            "scikit-learn==1.2.2\n",
            "scipy==1.11.4\n",
            "seaborn==0.13.1\n",
            "SecretStorage==3.3.1\n",
            "Send2Trash==1.8.3\n",
            "sentencepiece==0.1.99\n",
            "six==1.16.0\n",
            "sklearn-pandas==2.2.0\n",
            "smart-open==6.4.0\n",
            "sniffio==1.3.1\n",
            "soundfile==0.12.1\n",
            "soupsieve==2.5\n",
            "soxr==0.3.7\n",
            "spacy==3.7.4\n",
            "spacy-legacy==3.0.12\n",
            "spacy-loggers==1.0.5\n",
            "srsly==2.4.8\n",
            "StrEnum==0.4.15\n",
            "sympy==1.12\n",
            "tenacity==8.3.0\n",
            "tensorboard==2.15.2\n",
            "tensorboard-data-server==0.7.2\n",
            "tensorflow @ https://storage.googleapis.com/cloud-tpu-tpuvm-artifacts/tensorflow/tf-2.15.0/tensorflow-2.15.0-cp310-cp310-manylinux_2_17_x86_64.manylinux2014_x86_64.whl#sha256=23069418d5bea74d96f14f0ee47e8f429f0da4267df91769040a80f477e6ee05\n",
            "tensorflow-datasets==4.9.4\n",
            "tensorflow-estimator==2.15.0\n",
            "tensorflow-hub==0.16.1\n",
            "tensorflow-io-gcs-filesystem==0.37.0\n",
            "tensorflow-metadata==1.15.0\n",
            "tensorflow-probability==0.23.0\n",
            "tensorflow-text==2.15.0\n",
            "tensorstore==0.1.45\n",
            "termcolor==2.4.0\n",
            "terminado==0.18.1\n",
            "text-unidecode==1.3\n",
            "tf-slim==1.1.0\n",
            "tf_keras==2.15.1\n",
            "thinc==8.2.3\n",
            "threadpoolctl==3.5.0\n",
            "tifffile==2024.5.10\n",
            "tinycss2==1.3.0\n",
            "tokenizers==0.19.1\n",
            "toml==0.10.2\n",
            "tomli==2.0.1\n",
            "toolz==0.12.1\n",
            "torch @ https://download.pytorch.org/whl/cpu/torch-2.3.0%2Bcpu-cp310-cp310-linux_x86_64.whl#sha256=e3c220702d82c7596924150e0499fbbffcf62a88a59adc860fa357cd8dc1c302\n",
            "torch-xla @ https://storage.googleapis.com/pytorch-xla-releases/wheels/tpuvm/torch_xla-2.3.0+libtpu-cp310-cp310-manylinux_2_28_x86_64.whl#sha256=07af21e4ae08da39cc880057e42af170e74c3bd616d98797c792c498fe0c2641\n",
            "torchaudio @ https://download.pytorch.org/whl/cpu/torchaudio-2.3.0%2Bcpu-cp310-cp310-linux_x86_64.whl#sha256=fec488d1e034a78b58de46552fd684868ee8e49853c3b901628be9dbbc40095b\n",
            "torchtext==0.18.0\n",
            "torchvision @ https://download.pytorch.org/whl/cpu/torchvision-0.18.0%2Bcpu-cp310-cp310-linux_x86_64.whl#sha256=6f285024f8a93598a67fbd2c86b534cd01236e8f6bda8704cd3459cc63d665a3\n",
            "tornado==6.3.3\n",
            "tqdm==4.66.4\n",
            "traitlets==5.7.1\n",
            "transformers==4.41.0\n",
            "trax==1.4.1\n",
            "typer==0.9.4\n",
            "types-pytz==2024.1.0.20240417\n",
            "types-setuptools==70.0.0.20240523\n",
            "typing_extensions==4.11.0\n",
            "tzdata==2024.1\n",
            "tzlocal==5.2\n",
            "uritemplate==3.0.1\n",
            "urllib3==2.0.7\n",
            "vega-datasets==0.9.0\n",
            "wadllib==1.3.6\n",
            "wasabi==1.1.2\n",
            "wcwidth==0.2.13\n",
            "weasel==0.3.4\n",
            "webencodings==0.5.1\n",
            "websocket-client==1.8.0\n",
            "Werkzeug==3.0.3\n",
            "widgetsnbextension==3.6.6\n",
            "wrapt==1.14.1\n",
            "zipp==3.18.2\n"
          ]
        }
      ]
    }
  ],
  "metadata": {
    "accelerator": "TPU",
    "colab": {
      "gpuType": "V28",
      "machine_shape": "hm",
      "provenance": [],
      "include_colab_link": true
    },
    "kernelspec": {
      "display_name": "Python 3",
      "name": "python3"
    },
    "language_info": {
      "name": "python"
    }
  },
  "nbformat": 4,
  "nbformat_minor": 0
}